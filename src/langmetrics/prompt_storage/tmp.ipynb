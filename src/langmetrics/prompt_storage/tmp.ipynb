{
 "cells": [
  {
   "cell_type": "code",
   "execution_count": 5,
   "metadata": {},
   "outputs": [],
   "source": [
    "from langmetrics.utils import load_json"
   ]
  },
  {
   "cell_type": "code",
   "execution_count": 9,
   "metadata": {},
   "outputs": [],
   "source": [
    "file = load_json('arena_prompt.json')"
   ]
  },
  {
   "cell_type": "code",
   "execution_count": 14,
   "metadata": {},
   "outputs": [
    {
     "name": "stdout",
     "output_type": "stream",
     "text": [
      "Please solve the following multiple-choice question.\n",
      "Provide your reasoning and answer with only the letter (A, B, C, D, etc.).\n",
      "\n",
      "**\n",
      "IMPORTANT: Please make sure to only return in JSON format, with the 'reasoning' key providing the reasoning. \n",
      "Example JSON:\n",
      "{{\n",
      "    \"reasoning\": \"<your_reasoning. Think step by step deeply.>. So the answer is <your answer>\",\n",
      "    \"answer\": \"<your_answer>\"\n",
      "}}\n",
      "**\n",
      "\n",
      "Question:\n",
      "{question}\n",
      "\n",
      "Choices:\n",
      "{choices}\n",
      "\n",
      "JSON:\n",
      "\n"
     ]
    }
   ],
   "source": [
    "print(file['reasoning']['en'])"
   ]
  },
  {
   "cell_type": "code",
   "execution_count": null,
   "metadata": {},
   "outputs": [],
   "source": [
    "file['reasoning']['en'] = \"\"\"\n",
    "\n",
    "\n",
    "\n",
    "\n",
    "\n",
    "\n",
    "\"\"\""
   ]
  }
 ],
 "metadata": {
  "kernelspec": {
   "display_name": "magpie",
   "language": "python",
   "name": "python3"
  },
  "language_info": {
   "codemirror_mode": {
    "name": "ipython",
    "version": 3
   },
   "file_extension": ".py",
   "mimetype": "text/x-python",
   "name": "python",
   "nbconvert_exporter": "python",
   "pygments_lexer": "ipython3",
   "version": "3.10.16"
  }
 },
 "nbformat": 4,
 "nbformat_minor": 2
}
