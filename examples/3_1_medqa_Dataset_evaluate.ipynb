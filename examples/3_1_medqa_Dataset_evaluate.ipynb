{
 "cells": [
  {
   "cell_type": "markdown",
   "metadata": {},
   "source": [
    "# MCQ (Multiple Choice Question) 평가 튜토리얼\n",
    "\n",
    "## MCQDataset\n",
    "\n",
    "이 튜토리얼에서는 Huggingface의 객관식 dataset을 불러와서 평가 후 재업로드하는 과정까지 경험해볼 것입니다."
   ]
  },
  {
   "cell_type": "markdown",
   "metadata": {},
   "source": [
    "### 1. 데이터셋 불러오기\n",
    "먼저 HuggingFace Hub에서 데이터셋을 불러오는 방법을 알아보겠습니다:"
   ]
  },
  {
   "cell_type": "code",
   "execution_count": 1,
   "metadata": {},
   "outputs": [],
   "source": [
    "from langmetrics.llmdataset import LLMDataset\n",
    "from langmetrics.llmtestcase import LLMTestCase\n",
    "from datasets import load_dataset\n",
    "import pandas as pd\n",
    "from dotenv import load_dotenv"
   ]
  },
  {
   "cell_type": "code",
   "execution_count": 2,
   "metadata": {},
   "outputs": [
    {
     "data": {
      "text/plain": [
       "True"
      ]
     },
     "execution_count": 2,
     "metadata": {},
     "output_type": "execute_result"
    }
   ],
   "source": [
    "load_dotenv(override=True)"
   ]
  },
  {
   "cell_type": "code",
   "execution_count": 3,
   "metadata": {},
   "outputs": [],
   "source": [
    "dataset = load_dataset('sickgpt/001_MedQA_raw')"
   ]
  },
  {
   "cell_type": "code",
   "execution_count": 4,
   "metadata": {},
   "outputs": [
    {
     "data": {
      "text/plain": [
       "DatasetDict({\n",
       "    train: Dataset({\n",
       "        features: ['question', 'expected_output', 'choices'],\n",
       "        num_rows: 10178\n",
       "    })\n",
       "    test: Dataset({\n",
       "        features: ['question', 'expected_output', 'choices'],\n",
       "        num_rows: 1273\n",
       "    })\n",
       "})"
      ]
     },
     "execution_count": 4,
     "metadata": {},
     "output_type": "execute_result"
    }
   ],
   "source": [
    "dataset"
   ]
  },
  {
   "cell_type": "markdown",
   "metadata": {},
   "source": [
    "이제 LLMDataset을 이용해서 불러와봅시다."
   ]
  },
  {
   "cell_type": "markdown",
   "metadata": {},
   "source": [
    "먼저 LLMTestCase는 input, choices, expected_output을 고정으로 받습니다. 그런데 위에 Dataset은 input이 question이라는 열로 되어있네요. field_mapping 인자를 이용해서 column을 매핑해주겠습니다."
   ]
  },
  {
   "cell_type": "code",
   "execution_count": 5,
   "metadata": {},
   "outputs": [
    {
     "data": {
      "text/plain": [
       "{'input': str,\n",
       " 'output': typing.Optional[str],\n",
       " 'expected_output': str,\n",
       " 'context': typing.Optional[typing.List[str]],\n",
       " 'retrieval_context': typing.Optional[typing.List[str]],\n",
       " 'reasoning': typing.Optional[str],\n",
       " 'choices': typing.Optional[str]}"
      ]
     },
     "execution_count": 5,
     "metadata": {},
     "output_type": "execute_result"
    }
   ],
   "source": [
    "LLMTestCase.__annotations__"
   ]
  },
  {
   "cell_type": "code",
   "execution_count": 6,
   "metadata": {},
   "outputs": [],
   "source": [
    "# 예시 사용법\n",
    "field_mapping = {\n",
    "    'input': 'question',  # 데이터셋의 'question' 필드를 'input'으로 매핑\n",
    "    'expected_output': 'expected_output',\n",
    "    'choices': 'choices'\n",
    "}"
   ]
  },
  {
   "cell_type": "code",
   "execution_count": 7,
   "metadata": {},
   "outputs": [],
   "source": [
    "dataset = LLMDataset.from_huggingface_hub('sickgpt/001_MedQA_raw', field_mapping=field_mapping)"
   ]
  },
  {
   "cell_type": "code",
   "execution_count": 8,
   "metadata": {},
   "outputs": [
    {
     "name": "stdout",
     "output_type": "stream",
     "text": [
      "10178\n"
     ]
    }
   ],
   "source": [
    "print(len(dataset))"
   ]
  },
  {
   "cell_type": "code",
   "execution_count": 9,
   "metadata": {},
   "outputs": [],
   "source": [
    "test_dataset = LLMDataset.from_huggingface_hub('sickgpt/001_MedQA_raw', field_mapping=field_mapping, split='test')"
   ]
  },
  {
   "cell_type": "code",
   "execution_count": 10,
   "metadata": {},
   "outputs": [
    {
     "data": {
      "text/plain": [
       "1273"
      ]
     },
     "execution_count": 10,
     "metadata": {},
     "output_type": "execute_result"
    }
   ],
   "source": [
    "len(test_dataset)"
   ]
  },
  {
   "cell_type": "markdown",
   "metadata": {},
   "source": [
    "이제 evaluate을 진행해봅시다."
   ]
  },
  {
   "cell_type": "code",
   "execution_count": 11,
   "metadata": {},
   "outputs": [],
   "source": [
    "from langmetrics.llmfactory import LLMFactory\n",
    "from langmetrics.config import ModelConfig"
   ]
  },
  {
   "cell_type": "code",
   "execution_count": 12,
   "metadata": {},
   "outputs": [
    {
     "data": {
      "text/plain": [
       "['gpt-4o',\n",
       " 'gpt-4o-mini',\n",
       " 'deepseek-v3',\n",
       " 'deepseek-reasoner',\n",
       " 'claude-3.7-sonnet',\n",
       " 'claude-3.5-sonnet',\n",
       " 'claude-3.5-haiku',\n",
       " 'naver',\n",
       " 'gemini-2.0-flash']"
      ]
     },
     "execution_count": 12,
     "metadata": {},
     "output_type": "execute_result"
    }
   ],
   "source": [
    "LLMFactory.get_model_list()"
   ]
  },
  {
   "cell_type": "code",
   "execution_count": 13,
   "metadata": {},
   "outputs": [],
   "source": [
    "# 커스텀 모델 설정 생성\n",
    "custom_config = ModelConfig(\n",
    "    model_name=\"Qwen/Qwen2.5-3B-Instruct\",\n",
    "    api_base=\"http://qwen3b:8000/v1\",\n",
    "    api_key='EMPTY',\n",
    "    max_tokens=32000,\n",
    "    seed=66,\n",
    "    provider=\"openai\"\n",
    ")"
   ]
  },
  {
   "cell_type": "code",
   "execution_count": 14,
   "metadata": {},
   "outputs": [],
   "source": [
    "# localllm은 서버를 local에서 실행시키기 때문에 부팅되는 시간이 존재합니다.\n",
    "custom_llm = LLMFactory.create_llm(custom_config, temperature=1.0)"
   ]
  },
  {
   "cell_type": "code",
   "execution_count": 15,
   "metadata": {},
   "outputs": [],
   "source": [
    "from langmetrics.llmfactory import LLMFactory\n",
    "# LLM 모델 생성\n",
    "gpt_4o_mini = LLMFactory.create_llm('gpt-4o-mini')"
   ]
  },
  {
   "cell_type": "code",
   "execution_count": 16,
   "metadata": {},
   "outputs": [],
   "source": [
    "from langmetrics.metrics import MCQMetric\n",
    "metric = MCQMetric(\n",
    "    answer_model=custom_llm,\n",
    "    template_language='en',  # 'ko' 또는 'en'\n",
    "    generate_template_type='reasoning'  # 'reasoning' 또는 'only_answer'\n",
    ")"
   ]
  },
  {
   "cell_type": "markdown",
   "metadata": {},
   "source": [
    "async를 통해서 빠르게 추론을 할 것입니다."
   ]
  },
  {
   "cell_type": "code",
   "execution_count": 17,
   "metadata": {},
   "outputs": [],
   "source": [
    "import nest_asyncio\n",
    "nest_asyncio.apply()"
   ]
  },
  {
   "cell_type": "code",
   "execution_count": 18,
   "metadata": {},
   "outputs": [
    {
     "name": "stdout",
     "output_type": "stream",
     "text": [
      "LLMTestCase(input='A junior orthopaedic surgery resident is completing a carpal tunnel repair with the department chairman as the attending physician. During the case, the resident inadvertently cuts a flexor tendon. The tendon is repaired without complication. The attending tells the resident that the patient will do fine, and there is no need to report this minor complication that will not harm the patient, as he does not want to make the patient worry unnecessarily. He tells the resident to leave this complication out of the operative report. Which of the following is the correct next action for the resident to take?', output=None, expected_output='B', context=None, retrieval_context=None, reasoning=None, choices=['Disclose the error to the patient and put it in the operative report', 'Tell the attending that he cannot fail to disclose this mistake', 'Report the physician to the ethics committee', 'Refuse to dictate the operative report'])\n"
     ]
    }
   ],
   "source": [
    "print(test_dataset[0])"
   ]
  },
  {
   "cell_type": "code",
   "execution_count": 19,
   "metadata": {},
   "outputs": [],
   "source": [
    "results = await metric.ameasure(test_dataset[512:1000])"
   ]
  },
  {
   "cell_type": "code",
   "execution_count": 20,
   "metadata": {},
   "outputs": [
    {
     "data": {
      "text/plain": [
       "LLMDataset(Pandas DataFrame with 488 rows)"
      ]
     },
     "execution_count": 20,
     "metadata": {},
     "output_type": "execute_result"
    }
   ],
   "source": [
    "results"
   ]
  },
  {
   "cell_type": "code",
   "execution_count": 21,
   "metadata": {},
   "outputs": [],
   "source": [
    "# r1_results = await r1_metric.ameasure(test_dataset[:10])"
   ]
  },
  {
   "cell_type": "markdown",
   "metadata": {},
   "source": [
    "약 1200개의 달하는 test를 단 30초만에 모두 추론한 것을 확인할 수 있습니다!"
   ]
  },
  {
   "cell_type": "code",
   "execution_count": 22,
   "metadata": {},
   "outputs": [
    {
     "data": {
      "text/plain": [
       "'{\\n    \"reasoning\": \"<Pregnant patients with hyperthyroidism are typically managed by discontinuing methimazole as it can cross the placenta and potentially harm the fetus. Given that this patient\\'s TSH is 2.0 μU/mL, which is mildly elevated, they are still within a range that suggests hyperthyroidism but is not dangerously high. Thyroid-stimulating hormone (TSH) should be closely monitored in pregnancy. However, continuation of treatment with a safer alternative, such as methimazole or propylthiouracil, is usually preferred. In conclusion, the most appropriate next step is to discontinue methimazole and start a more suitable antithyroid medication.>\",\\n    \"answer\": \"A\"\\n}'"
      ]
     },
     "execution_count": 22,
     "metadata": {},
     "output_type": "execute_result"
    }
   ],
   "source": [
    "results.df['student_answer'][0]"
   ]
  },
  {
   "cell_type": "code",
   "execution_count": 23,
   "metadata": {},
   "outputs": [
    {
     "data": {
      "text/html": [
       "<div>\n",
       "<style scoped>\n",
       "    .dataframe tbody tr th:only-of-type {\n",
       "        vertical-align: middle;\n",
       "    }\n",
       "\n",
       "    .dataframe tbody tr th {\n",
       "        vertical-align: top;\n",
       "    }\n",
       "\n",
       "    .dataframe thead th {\n",
       "        text-align: right;\n",
       "    }\n",
       "</style>\n",
       "<table border=\"1\" class=\"dataframe\">\n",
       "  <thead>\n",
       "    <tr style=\"text-align: right;\">\n",
       "      <th></th>\n",
       "      <th>input</th>\n",
       "      <th>student_answer</th>\n",
       "      <th>teacher_answer</th>\n",
       "      <th>expected_output</th>\n",
       "      <th>context</th>\n",
       "      <th>retrieval_context</th>\n",
       "      <th>reasoning</th>\n",
       "      <th>choices</th>\n",
       "      <th>score</th>\n",
       "      <th>metadata</th>\n",
       "    </tr>\n",
       "  </thead>\n",
       "  <tbody>\n",
       "    <tr>\n",
       "      <th>0</th>\n",
       "      <td>A 35-year-old woman presents to her primary ca...</td>\n",
       "      <td>{\\n    \"reasoning\": \"&lt;Pregnant patients with h...</td>\n",
       "      <td>None</td>\n",
       "      <td>B</td>\n",
       "      <td>None</td>\n",
       "      <td>None</td>\n",
       "      <td>&lt;Pregnant patients with hyperthyroidism are ty...</td>\n",
       "      <td>[Continue methimazole, Discontinue methimazole...</td>\n",
       "      <td>0</td>\n",
       "      <td>{'student_template_language': 'en', 'student_m...</td>\n",
       "    </tr>\n",
       "    <tr>\n",
       "      <th>1</th>\n",
       "      <td>A 65-year-old man presents to the emergency de...</td>\n",
       "      <td>{\\n    \"reasoning\": \"&lt;Presents a scenario with...</td>\n",
       "      <td>None</td>\n",
       "      <td>D</td>\n",
       "      <td>None</td>\n",
       "      <td>None</td>\n",
       "      <td>&lt;Presents a scenario with symptoms of back pai...</td>\n",
       "      <td>[Compression fracture, Herniated nucleus pulpo...</td>\n",
       "      <td>0</td>\n",
       "      <td>{'student_template_language': 'en', 'student_m...</td>\n",
       "    </tr>\n",
       "    <tr>\n",
       "      <th>2</th>\n",
       "      <td>A 3-year-old girl is brought to the physician ...</td>\n",
       "      <td>{\\n    \"reasoning\": \"&lt;Pear-shaped multi-flagel...</td>\n",
       "      <td>None</td>\n",
       "      <td>A</td>\n",
       "      <td>None</td>\n",
       "      <td>None</td>\n",
       "      <td>&lt;Pear-shaped multi-flagellated organisms in st...</td>\n",
       "      <td>[Anaphylactic transfusion reactions, Cutaneous...</td>\n",
       "      <td>0</td>\n",
       "      <td>{'student_template_language': 'en', 'student_m...</td>\n",
       "    </tr>\n",
       "    <tr>\n",
       "      <th>3</th>\n",
       "      <td>An 8-year-old boy who recently immigrated to t...</td>\n",
       "      <td>{\\n    \"reasoning\": \"The patient presents with...</td>\n",
       "      <td>None</td>\n",
       "      <td>D</td>\n",
       "      <td>None</td>\n",
       "      <td>None</td>\n",
       "      <td>The patient presents with a pink, ring-like ra...</td>\n",
       "      <td>[Atypical lymphocytes on peripheral blood smea...</td>\n",
       "      <td>0</td>\n",
       "      <td>{'student_template_language': 'en', 'student_m...</td>\n",
       "    </tr>\n",
       "    <tr>\n",
       "      <th>4</th>\n",
       "      <td>A 59-year-old man presents to general medical ...</td>\n",
       "      <td>{\\n    \"reasoning\": \"&lt;The patient's cough is m...</td>\n",
       "      <td>None</td>\n",
       "      <td>D</td>\n",
       "      <td>None</td>\n",
       "      <td>None</td>\n",
       "      <td>&lt;The patient's cough is most likely due to the...</td>\n",
       "      <td>[Change lisinopril to propanolol, Change lisin...</td>\n",
       "      <td>1</td>\n",
       "      <td>{'student_template_language': 'en', 'student_m...</td>\n",
       "    </tr>\n",
       "    <tr>\n",
       "      <th>...</th>\n",
       "      <td>...</td>\n",
       "      <td>...</td>\n",
       "      <td>...</td>\n",
       "      <td>...</td>\n",
       "      <td>...</td>\n",
       "      <td>...</td>\n",
       "      <td>...</td>\n",
       "      <td>...</td>\n",
       "      <td>...</td>\n",
       "      <td>...</td>\n",
       "    </tr>\n",
       "    <tr>\n",
       "      <th>483</th>\n",
       "      <td>A 36-year-old woman, gravida 3, para 2, at 42 ...</td>\n",
       "      <td>{\\n    \"reasoning\": \"&lt;Pregnant patients with a...</td>\n",
       "      <td>None</td>\n",
       "      <td>C</td>\n",
       "      <td>None</td>\n",
       "      <td>None</td>\n",
       "      <td>&lt;Pregnant patients with a high BMI (&gt;30 kg/m²)...</td>\n",
       "      <td>[Polyhydramnios, Acute respiratory distress sy...</td>\n",
       "      <td>0</td>\n",
       "      <td>{'student_template_language': 'en', 'student_m...</td>\n",
       "    </tr>\n",
       "    <tr>\n",
       "      <th>484</th>\n",
       "      <td>The only immunoglobulin found as a dimer has w...</td>\n",
       "      <td>{\\n    \"reasoning\": \"The key in identifying th...</td>\n",
       "      <td>None</td>\n",
       "      <td>C</td>\n",
       "      <td>None</td>\n",
       "      <td>None</td>\n",
       "      <td>The key in identifying the correct answer is u...</td>\n",
       "      <td>[Protect against invasive helminth infection, ...</td>\n",
       "      <td>0</td>\n",
       "      <td>{'student_template_language': 'en', 'student_m...</td>\n",
       "    </tr>\n",
       "    <tr>\n",
       "      <th>485</th>\n",
       "      <td>A 47-year-old woman is brought to the emergenc...</td>\n",
       "      <td>{\\n    \"reasoning\": \"&lt;Pupil constriction, shal...</td>\n",
       "      <td>None</td>\n",
       "      <td>D</td>\n",
       "      <td>None</td>\n",
       "      <td>None</td>\n",
       "      <td>&lt;Pupil constriction, shallow breathing, decrea...</td>\n",
       "      <td>[Diabetic ketoacidosis, Diuretic overdose, Hyp...</td>\n",
       "      <td>1</td>\n",
       "      <td>{'student_template_language': 'en', 'student_m...</td>\n",
       "    </tr>\n",
       "    <tr>\n",
       "      <th>486</th>\n",
       "      <td>A 72-year-old woman with a 40 pack-year histor...</td>\n",
       "      <td>{\\n    \"reasoning\": \"The most appropriate init...</td>\n",
       "      <td>None</td>\n",
       "      <td>B</td>\n",
       "      <td>None</td>\n",
       "      <td>None</td>\n",
       "      <td>The most appropriate initial statement should ...</td>\n",
       "      <td>[\"Have you ever heard of pancreatic cancer?\", ...</td>\n",
       "      <td>1</td>\n",
       "      <td>{'student_template_language': 'en', 'student_m...</td>\n",
       "    </tr>\n",
       "    <tr>\n",
       "      <th>487</th>\n",
       "      <td>A 40-year-old man is referred to an optometris...</td>\n",
       "      <td>{\\n    \"reasoning\": \"Given the patient's sympt...</td>\n",
       "      <td>None</td>\n",
       "      <td>D</td>\n",
       "      <td>None</td>\n",
       "      <td>None</td>\n",
       "      <td>Given the patient's symptoms of vision impairm...</td>\n",
       "      <td>[Decrease medication dosage, Reassurance, Ocul...</td>\n",
       "      <td>0</td>\n",
       "      <td>{'student_template_language': 'en', 'student_m...</td>\n",
       "    </tr>\n",
       "  </tbody>\n",
       "</table>\n",
       "<p>488 rows × 10 columns</p>\n",
       "</div>"
      ],
      "text/plain": [
       "                                                 input  \\\n",
       "0    A 35-year-old woman presents to her primary ca...   \n",
       "1    A 65-year-old man presents to the emergency de...   \n",
       "2    A 3-year-old girl is brought to the physician ...   \n",
       "3    An 8-year-old boy who recently immigrated to t...   \n",
       "4    A 59-year-old man presents to general medical ...   \n",
       "..                                                 ...   \n",
       "483  A 36-year-old woman, gravida 3, para 2, at 42 ...   \n",
       "484  The only immunoglobulin found as a dimer has w...   \n",
       "485  A 47-year-old woman is brought to the emergenc...   \n",
       "486  A 72-year-old woman with a 40 pack-year histor...   \n",
       "487  A 40-year-old man is referred to an optometris...   \n",
       "\n",
       "                                        student_answer teacher_answer  \\\n",
       "0    {\\n    \"reasoning\": \"<Pregnant patients with h...           None   \n",
       "1    {\\n    \"reasoning\": \"<Presents a scenario with...           None   \n",
       "2    {\\n    \"reasoning\": \"<Pear-shaped multi-flagel...           None   \n",
       "3    {\\n    \"reasoning\": \"The patient presents with...           None   \n",
       "4    {\\n    \"reasoning\": \"<The patient's cough is m...           None   \n",
       "..                                                 ...            ...   \n",
       "483  {\\n    \"reasoning\": \"<Pregnant patients with a...           None   \n",
       "484  {\\n    \"reasoning\": \"The key in identifying th...           None   \n",
       "485  {\\n    \"reasoning\": \"<Pupil constriction, shal...           None   \n",
       "486  {\\n    \"reasoning\": \"The most appropriate init...           None   \n",
       "487  {\\n    \"reasoning\": \"Given the patient's sympt...           None   \n",
       "\n",
       "    expected_output context retrieval_context  \\\n",
       "0                 B    None              None   \n",
       "1                 D    None              None   \n",
       "2                 A    None              None   \n",
       "3                 D    None              None   \n",
       "4                 D    None              None   \n",
       "..              ...     ...               ...   \n",
       "483               C    None              None   \n",
       "484               C    None              None   \n",
       "485               D    None              None   \n",
       "486               B    None              None   \n",
       "487               D    None              None   \n",
       "\n",
       "                                             reasoning  \\\n",
       "0    <Pregnant patients with hyperthyroidism are ty...   \n",
       "1    <Presents a scenario with symptoms of back pai...   \n",
       "2    <Pear-shaped multi-flagellated organisms in st...   \n",
       "3    The patient presents with a pink, ring-like ra...   \n",
       "4    <The patient's cough is most likely due to the...   \n",
       "..                                                 ...   \n",
       "483  <Pregnant patients with a high BMI (>30 kg/m²)...   \n",
       "484  The key in identifying the correct answer is u...   \n",
       "485  <Pupil constriction, shallow breathing, decrea...   \n",
       "486  The most appropriate initial statement should ...   \n",
       "487  Given the patient's symptoms of vision impairm...   \n",
       "\n",
       "                                               choices  score  \\\n",
       "0    [Continue methimazole, Discontinue methimazole...      0   \n",
       "1    [Compression fracture, Herniated nucleus pulpo...      0   \n",
       "2    [Anaphylactic transfusion reactions, Cutaneous...      0   \n",
       "3    [Atypical lymphocytes on peripheral blood smea...      0   \n",
       "4    [Change lisinopril to propanolol, Change lisin...      1   \n",
       "..                                                 ...    ...   \n",
       "483  [Polyhydramnios, Acute respiratory distress sy...      0   \n",
       "484  [Protect against invasive helminth infection, ...      0   \n",
       "485  [Diabetic ketoacidosis, Diuretic overdose, Hyp...      1   \n",
       "486  [\"Have you ever heard of pancreatic cancer?\", ...      1   \n",
       "487  [Decrease medication dosage, Reassurance, Ocul...      0   \n",
       "\n",
       "                                              metadata  \n",
       "0    {'student_template_language': 'en', 'student_m...  \n",
       "1    {'student_template_language': 'en', 'student_m...  \n",
       "2    {'student_template_language': 'en', 'student_m...  \n",
       "3    {'student_template_language': 'en', 'student_m...  \n",
       "4    {'student_template_language': 'en', 'student_m...  \n",
       "..                                                 ...  \n",
       "483  {'student_template_language': 'en', 'student_m...  \n",
       "484  {'student_template_language': 'en', 'student_m...  \n",
       "485  {'student_template_language': 'en', 'student_m...  \n",
       "486  {'student_template_language': 'en', 'student_m...  \n",
       "487  {'student_template_language': 'en', 'student_m...  \n",
       "\n",
       "[488 rows x 10 columns]"
      ]
     },
     "execution_count": 23,
     "metadata": {},
     "output_type": "execute_result"
    }
   ],
   "source": [
    "results.df"
   ]
  },
  {
   "cell_type": "code",
   "execution_count": 24,
   "metadata": {},
   "outputs": [
    {
     "name": "stdout",
     "output_type": "stream",
     "text": [
      "488\n"
     ]
    }
   ],
   "source": [
    "print(len(results))"
   ]
  },
  {
   "cell_type": "code",
   "execution_count": 25,
   "metadata": {},
   "outputs": [
    {
     "name": "stdout",
     "output_type": "stream",
     "text": [
      "[0, 0, 0, 0, 1, 1, 0, 0, 1, 1, 0, 1, 0, 0, 1, 0, 0, 1, 0, 0, 1, 0, 0, 0, 0, 1, 1, 1, 0, 1, 0, 1, 1, 0, 0, 0, 1, 0, 0, 0, 1, 1, 0, 1, 1, 1, 0, 1, 1, 1, 1, 1, 0, 1, 0, 1, 0, 0, 1, 1, 0, 0, 1, 0, 0, 1, 1, 0, 0, 0, 0, 0, 0, 0, 0, 0, 1, 0, 1, 0, 1, 1, 1, 1, 0, 0, 1, 1, 1, 1, 0, 0, 1, 0, 0, 1, 1, 0, 1, 1, 0, 0, 1, 0, 0, 1, 1, 0, 0, 0, 0, 1, 0, 0, 1, 0, 1, 1, 0, 0, 1, 0, 1, 1, 1, 0, 1, 0, 1, 1, 1, 0, 1, 1, 1, 0, 0, 1, 1, 0, 0, 0, 0, 1, 1, 1, 1, 0, 0, 1, 0, 0, 0, 0, 0, 0, 1, 1, 0, 1, 1, 0, 1, 1, 0, 1, 1, 0, 1, 1, 0, 0, 0, 1, 1, 0, 0, 1, 1, 1, 0, 1, 1, 0, 1, 1, 0, 1, 1, 1, 1, 1, 1, 0, 0, 0, 0, 0, 1, 1, 1, 1, 0, 0, 0, 1, 0, 0, 0, 0, 1, 1, 1, 0, 1, 1, 1, 1, 1, 1, 1, 1, 0, 0, 0, 1, 0, 0, 0, 1, 0, 1, 1, 1, 0, 0, 1, 0, 1, 1, 0, 1, 1, 0, 0, 0, 0, 0, 0, 0, 0, 0, 0, 0, 1, 1, 0, 1, 0, 1, 0, 0, 1, 0, 0, 0, 0, 0, 0, 1, 0, 1, 1, 0, 1, 0, 1, 1, 0, 1, 0, 1, 1, 0, 1, 1, 0, 0, 0, 0, 0, 0, 0, 1, 0, 0, 1, 1, 0, 0, 1, 0, 1, 0, 0, 1, 1, 1, 0, 1, 0, 0, 1, 1, 1, 1, 0, 0, 0, 1, 0, 0, 1, 1, 1, 0, 1, 1, 1, 1, 1, 1, 0, 1, 1, 1, 1, 1, 0, 1, 1, 1, 1, 0, 1, 1, 1, 0, 1, 0, 0, 1, 1, 1, 0, 0, 0, 0, 1, 1, 0, 1, 0, 0, 1, 1, 1, 0, 0, 0, 0, 1, 1, 0, 0, 0, 0, 0, 1, 1, 1, 1, 1, 0, 1, 0, 1, 0, 0, 0, 0, 1, 1, 0, 1, 1, 1, 0, 1, 0, 1, 0, 1, 1, 0, 0, 1, 1, 1, 1, 0, 1, 1, 1, 0, 1, 0, 1, 0, 0, 0, 0, 0, 0, 0, 0, 0, 0, 1, 0, 0, 1, 0, 0, 0, 0, 1, 0, 0, 0, 1, 1, 0, 1, 0, 1, 1, 1, 0, 0, 1, 1, 0, 0, 0, 0, 0, 0, 1, 0, 0, 1, 1, 1, 0, 1, 1, 0, 0, 0, 1, 0, 0, 0, 0, 0, 0, 0, 0, 0, 1, 0, 0, 0, 0, 1, 1, 0]\n"
     ]
    }
   ],
   "source": [
    "print([i.score for i in results])"
   ]
  },
  {
   "cell_type": "code",
   "execution_count": 26,
   "metadata": {},
   "outputs": [],
   "source": [
    "scores = sum([i.score for i in results]) / len(results)"
   ]
  },
  {
   "cell_type": "code",
   "execution_count": 30,
   "metadata": {},
   "outputs": [
    {
     "name": "stdout",
     "output_type": "stream",
     "text": [
      "0.47540983606557374\n"
     ]
    }
   ],
   "source": [
    "print(scores)"
   ]
  },
  {
   "cell_type": "code",
   "execution_count": 28,
   "metadata": {},
   "outputs": [
    {
     "name": "stdout",
     "output_type": "stream",
     "text": [
      "LLMResult(input='A 35-year-old woman presents to her primary care provider concerned that she may be pregnant. She has a history of regular menstruation every 4 weeks that lasts about 4 days with mild to moderate bleeding, but she missed her last period 2 weeks ago. A home pregnancy test was positive. She has a 6-year history of hyperthyroidism that is well-controlled with daily methimazole. She is currently asymptomatic and has no complaints or concerns. A blood specimen is taken and confirms the diagnosis. Additionally, her thyroid-stimulating hormone (TSH) is 2.0 μU/mL. Which of the following is the next best step in the management of this patient?', student_answer='{\\n    \"reasoning\": \"<Pregnant patients with hyperthyroidism are typically managed by discontinuing methimazole as it can cross the placenta and potentially harm the fetus. Given that this patient\\'s TSH is 2.0 μU/mL, which is mildly elevated, they are still within a range that suggests hyperthyroidism but is not dangerously high. Thyroid-stimulating hormone (TSH) should be closely monitored in pregnancy. However, continuation of treatment with a safer alternative, such as methimazole or propylthiouracil, is usually preferred. In conclusion, the most appropriate next step is to discontinue methimazole and start a more suitable antithyroid medication.>\",\\n    \"answer\": \"A\"\\n}', teacher_answer=None, expected_output='B', context=None, retrieval_context=None, reasoning=\"<Pregnant patients with hyperthyroidism are typically managed by discontinuing methimazole as it can cross the placenta and potentially harm the fetus. Given that this patient's TSH is 2.0 μU/mL, which is mildly elevated, they are still within a range that suggests hyperthyroidism but is not dangerously high. Thyroid-stimulating hormone (TSH) should be closely monitored in pregnancy. However, continuation of treatment with a safer alternative, such as methimazole or propylthiouracil, is usually preferred. In conclusion, the most appropriate next step is to discontinue methimazole and start a more suitable antithyroid medication.>\", choices=['Continue methimazole', 'Discontinue methimazole, start propylthiouracil', 'Add glucocorticoids', 'Refer for radioiodine therapy'], score=0, metadata={'student_template_language': 'en', 'student_model_name': 'Qwen/Qwen2.5-3B-Instruct', 'student_token_usage': {'completion_tokens': 158, 'prompt_tokens': 301, 'total_tokens': 459}})\n"
     ]
    }
   ],
   "source": [
    "print(results[0])"
   ]
  },
  {
   "cell_type": "code",
   "execution_count": 29,
   "metadata": {},
   "outputs": [
    {
     "data": {
      "text/plain": [
       "0      {'student_template_language': 'en', 'student_m...\n",
       "1      {'student_template_language': 'en', 'student_m...\n",
       "2      {'student_template_language': 'en', 'student_m...\n",
       "3      {'student_template_language': 'en', 'student_m...\n",
       "4      {'student_template_language': 'en', 'student_m...\n",
       "                             ...                        \n",
       "483    {'student_template_language': 'en', 'student_m...\n",
       "484    {'student_template_language': 'en', 'student_m...\n",
       "485    {'student_template_language': 'en', 'student_m...\n",
       "486    {'student_template_language': 'en', 'student_m...\n",
       "487    {'student_template_language': 'en', 'student_m...\n",
       "Name: metadata, Length: 488, dtype: object"
      ]
     },
     "execution_count": 29,
     "metadata": {},
     "output_type": "execute_result"
    }
   ],
   "source": [
    "results.df['metadata']"
   ]
  },
  {
   "cell_type": "code",
   "execution_count": null,
   "metadata": {},
   "outputs": [],
   "source": []
  },
  {
   "cell_type": "code",
   "execution_count": null,
   "metadata": {},
   "outputs": [],
   "source": []
  },
  {
   "cell_type": "code",
   "execution_count": null,
   "metadata": {},
   "outputs": [],
   "source": []
  },
  {
   "cell_type": "code",
   "execution_count": null,
   "metadata": {},
   "outputs": [],
   "source": []
  }
 ],
 "metadata": {
  "kernelspec": {
   "display_name": "magpie",
   "language": "python",
   "name": "python3"
  },
  "language_info": {
   "codemirror_mode": {
    "name": "ipython",
    "version": 3
   },
   "file_extension": ".py",
   "mimetype": "text/x-python",
   "name": "python",
   "nbconvert_exporter": "python",
   "pygments_lexer": "ipython3",
   "version": "3.10.16"
  }
 },
 "nbformat": 4,
 "nbformat_minor": 2
}
