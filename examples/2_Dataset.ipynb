{
 "cells": [
  {
   "cell_type": "markdown",
   "metadata": {},
   "source": [
    "# MCQ (Multiple Choice Question) 평가 튜토리얼\n",
    "\n",
    "## MCQDataset\n",
    "\n",
    "이 튜토리얼에서는 MCQDataset Class에 대해서 배울 것입니다.\n",
    "\n",
    "### MCQDataset의 주요 기능\n",
    "- 여러가지 데이터 쉬운 데이터 조작 함수 제공\n",
    "- 파일 입출력 함수 제공\n",
    "- huggingface 통합"
   ]
  },
  {
   "cell_type": "code",
   "execution_count": 1,
   "metadata": {},
   "outputs": [],
   "source": [
    "from typing import List\n",
    "from langmetrics.llmtestcase import MCQTestCase\n",
    "from langmetrics.llmdataset import MCQDataset"
   ]
  },
  {
   "cell_type": "markdown",
   "metadata": {},
   "source": [
    "## MCQDatset 기본 사용법\n",
    "### 3.1 데이터셋 생성\n",
    "MCQDatset은 MCQTestCase 객체들의 리스트로 생성할 수 있습니다."
   ]
  },
  {
   "cell_type": "code",
   "execution_count": 2,
   "metadata": {},
   "outputs": [],
   "source": [
    "# 여러 테스트 케이스로 데이터셋 생성\n",
    "test_cases = [\n",
    "    MCQTestCase(\n",
    "        input=\"대한민국의 수도는?\",\n",
    "        choices=[\"서울\", \"부산\", \"대구\", \"인천\"],\n",
    "        expected_output=\"서울\"\n",
    "    ),\n",
    "    MCQTestCase(\n",
    "        input=\"1 + 1 = ?\",\n",
    "        choices=[\"1\", \"2\", \"3\", \"4\"],\n",
    "        expected_output=\"2\"\n",
    "    )\n",
    "]\n",
    "\n",
    "dataset = MCQDataset(test_cases=test_cases)"
   ]
  },
  {
   "cell_type": "markdown",
   "metadata": {},
   "source": [
    "### 3.2 기본 Datset 작업\n",
    "\n",
    "Dataset Class는 대부분의 파이썬 리스트 기능들이 구현되어 있습니다. 또한 Dataframe의 몇몇 기능 또한 추가되어 편리하게 사용할 수 있습니다."
   ]
  },
  {
   "cell_type": "code",
   "execution_count": 3,
   "metadata": {},
   "outputs": [
    {
     "name": "stdout",
     "output_type": "stream",
     "text": [
      "데이터셋 크기: 2\n",
      "문제: 대한민국의 수도는?\n",
      "선택지: ['서울', '부산', '대구', '인천']\n",
      "문제: 1 + 1 = ?\n",
      "선택지: ['1', '2', '3', '4']\n"
     ]
    }
   ],
   "source": [
    "# 데이터셋 크기 확인\n",
    "print(f\"데이터셋 크기: {len(dataset)}\")\n",
    "\n",
    "# 특정 문제 접근\n",
    "first_question = dataset[0]\n",
    "\n",
    "# 데이터셋 순회\n",
    "for question in dataset:\n",
    "    print(f\"문제: {question.input}\")\n",
    "    print(f\"선택지: {question.choices}\")"
   ]
  },
  {
   "cell_type": "markdown",
   "metadata": {},
   "source": [
    "### 3.2 데이터 추가"
   ]
  },
  {
   "cell_type": "code",
   "execution_count": 4,
   "metadata": {},
   "outputs": [],
   "source": [
    "# 단일 문제 추가\n",
    "new_question = MCQTestCase(\n",
    "    input=\"Python은 인터프리터 언어인가요?\",\n",
    "    choices=[\"예\", \"아니오\"],\n",
    "    expected_output=\"예\"\n",
    ")\n",
    "dataset.append(new_question)"
   ]
  },
  {
   "cell_type": "code",
   "execution_count": 5,
   "metadata": {},
   "outputs": [
    {
     "name": "stdout",
     "output_type": "stream",
     "text": [
      "3\n"
     ]
    }
   ],
   "source": [
    "print(len(dataset))"
   ]
  },
  {
   "cell_type": "code",
   "execution_count": 6,
   "metadata": {},
   "outputs": [],
   "source": [
    "# 테스트케이스 여러개 추가\n",
    "new_testcases: List[MCQTestCase] = [\n",
    "    MCQTestCase(\n",
    "        input=\"What is 2 + 2?\",\n",
    "        choices=[\"3\", \"4\", \"5\", \"6\"],\n",
    "        expected_output=\"B\"\n",
    "    ),\n",
    "    MCQTestCase(\n",
    "        input=\"Which planet is known as the Red Planet?\",\n",
    "        choices=[\"Venus\", \"Mars\", \"Jupiter\", \"Saturn\"],\n",
    "        expected_output=\"B\"\n",
    "    )\n",
    "]\n",
    "dataset.extend(new_testcases)"
   ]
  },
  {
   "cell_type": "code",
   "execution_count": 7,
   "metadata": {},
   "outputs": [
    {
     "name": "stdout",
     "output_type": "stream",
     "text": [
      "5\n"
     ]
    }
   ],
   "source": [
    "print(len(dataset))"
   ]
  },
  {
   "cell_type": "code",
   "execution_count": 8,
   "metadata": {},
   "outputs": [],
   "source": [
    "# MCQDataset 테스트케이스 여러개 추가\n",
    "new_testcases = MCQDataset(new_testcases)\n",
    "dataset.extend(new_testcases)"
   ]
  },
  {
   "cell_type": "code",
   "execution_count": 9,
   "metadata": {},
   "outputs": [
    {
     "name": "stdout",
     "output_type": "stream",
     "text": [
      "7\n"
     ]
    }
   ],
   "source": [
    "print(len(dataset))"
   ]
  },
  {
   "cell_type": "markdown",
   "metadata": {},
   "source": [
    "### 3.3 데이터 조작\n",
    "\n",
    "데이터 조작을 위하여 다음 함수들을 제공합니다.\n",
    "\n",
    "- `filter`: 조건에 맞는 테스트 케이스만 선택\n",
    "- `map`: 각 테스트 케이스를 변환\n",
    "- `split`: 훈련/테스트 세트로 분할\n",
    "- `sample`: 무작위 샘플링"
   ]
  },
  {
   "cell_type": "code",
   "execution_count": 10,
   "metadata": {},
   "outputs": [],
   "source": [
    "# 추론이 있는 문제만 필터링\n",
    "filtered = dataset.filter(lambda x: x.reasoning is not None)\n",
    "\n",
    "# print(filtered)\n",
    "\n",
    "# 모든 문제에 추론 추가\n",
    "def add_default_reasoning(case):\n",
    "    if case.reasoning is None:\n",
    "        case.reasoning = \"기본 추론\"\n",
    "    return case\n",
    "\n",
    "transformed = dataset.map(add_default_reasoning)"
   ]
  },
  {
   "cell_type": "code",
   "execution_count": 11,
   "metadata": {},
   "outputs": [
    {
     "name": "stdout",
     "output_type": "stream",
     "text": [
      "[MCQTestCase(input='대한민국의 수도는?', choices=['서울', '부산', '대구', '인천'], expected_output='서울', output=None, reasoning='기본 추론'), MCQTestCase(input='1 + 1 = ?', choices=['1', '2', '3', '4'], expected_output='2', output=None, reasoning='기본 추론'), MCQTestCase(input='Python은 인터프리터 언어인가요?', choices=['예', '아니오'], expected_output='예', output=None, reasoning='기본 추론'), MCQTestCase(input='What is 2 + 2?', choices=['3', '4', '5', '6'], expected_output='B', output=None, reasoning='기본 추론'), MCQTestCase(input='Which planet is known as the Red Planet?', choices=['Venus', 'Mars', 'Jupiter', 'Saturn'], expected_output='B', output=None, reasoning='기본 추론'), MCQTestCase(input='What is 2 + 2?', choices=['3', '4', '5', '6'], expected_output='B', output=None, reasoning='기본 추론'), MCQTestCase(input='Which planet is known as the Red Planet?', choices=['Venus', 'Mars', 'Jupiter', 'Saturn'], expected_output='B', output=None, reasoning='기본 추론')]\n"
     ]
    }
   ],
   "source": [
    "print(transformed)"
   ]
  },
  {
   "cell_type": "markdown",
   "metadata": {},
   "source": [
    "데이터셋의 테스트 케이스들을 리스트 형태로 변환하고 싶다면 `to_list`와 `list`를 사용할 수 있습니다. \n",
    "`to_list`는 `dict_format` 인자를 사용하여 테스트 케이스를 dictionary 형태로 변환 시킬 수 있습니다."
   ]
  },
  {
   "cell_type": "markdown",
   "metadata": {},
   "source": [
    "### 3.4 데이터셋 분할 및 샘플링\n",
    "\n",
    "데이터셋 분할과 sampling을 위하여 다음 함수들을 사용할 수 있습니다."
   ]
  },
  {
   "cell_type": "code",
   "execution_count": null,
   "metadata": {},
   "outputs": [],
   "source": [
    "# 80% 훈련, 20% 테스트로 분할\n",
    "train_set, test_set = dataset.split(test_size=0.2)"
   ]
  },
  {
   "cell_type": "code",
   "execution_count": null,
   "metadata": {},
   "outputs": [],
   "source": [
    "# 특정 개수만큼 샘플링\n",
    "sampled = dataset.sample(n=5)\n",
    "\n",
    "# 비율로 샘플링\n",
    "sampled = dataset.sample(frac=0.3)"
   ]
  },
  {
   "cell_type": "markdown",
   "metadata": {},
   "source": [
    "## 4. 파일 입출력\n",
    "### 4.1 Json 형식"
   ]
  },
  {
   "cell_type": "code",
   "execution_count": null,
   "metadata": {},
   "outputs": [],
   "source": [
    "# JSON으로 저장\n",
    "dataset.to_json(\"questions.json\")\n",
    "\n",
    "# JSON에서 로드\n",
    "loaded_dataset = MCQDataset.from_json(\"questions.json\")"
   ]
  },
  {
   "cell_type": "markdown",
   "metadata": {},
   "source": [
    "### 4.2 csv 형식"
   ]
  },
  {
   "cell_type": "code",
   "execution_count": 19,
   "metadata": {},
   "outputs": [],
   "source": [
    "# # CSV로 저장\n",
    "# dataset.to_csv(\"questions.csv\")\n",
    "\n",
    "# # CSV에서 로드\n",
    "# loaded_dataset = MCQDataset.from_csv(\"questions.csv\")"
   ]
  },
  {
   "cell_type": "markdown",
   "metadata": {},
   "source": [
    "### 5.3 DataFrame 변환"
   ]
  },
  {
   "cell_type": "code",
   "execution_count": null,
   "metadata": {},
   "outputs": [],
   "source": [
    "# DataFrame으로 변환\n",
    "df = dataset.to_dataframe()"
   ]
  },
  {
   "cell_type": "markdown",
   "metadata": {},
   "source": [
    "### 5.4 Huggingface 통합"
   ]
  },
  {
   "cell_type": "code",
   "execution_count": null,
   "metadata": {},
   "outputs": [],
   "source": [
    "# Hugging Face Hub에 업로드\n",
    "dataset.push_to_hub(\n",
    "    repo_id=\"username/mcq-dataset\",\n",
    "    private=True\n",
    ")\n",
    "\n",
    "# Hugging Face Hub에서 로드\n",
    "dataset = MCQDataset.from_huggingface_hub(\"username/mcq-dataset\")\n"
   ]
  },
  {
   "cell_type": "code",
   "execution_count": null,
   "metadata": {},
   "outputs": [],
   "source": []
  }
 ],
 "metadata": {
  "kernelspec": {
   "display_name": "base",
   "language": "python",
   "name": "python3"
  },
  "language_info": {
   "codemirror_mode": {
    "name": "ipython",
    "version": 3
   },
   "file_extension": ".py",
   "mimetype": "text/x-python",
   "name": "python",
   "nbconvert_exporter": "python",
   "pygments_lexer": "ipython3",
   "version": "3.11.5"
  }
 },
 "nbformat": 4,
 "nbformat_minor": 2
}
