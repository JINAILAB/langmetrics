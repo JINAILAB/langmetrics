{
 "cells": [
  {
   "cell_type": "markdown",
   "metadata": {},
   "source": [
    "# MCQ (Multiple Choice Question) 평가 튜토리얼\n",
    "\n",
    "## MCQDataset\n",
    "\n",
    "이 튜토리얼에서는 Huggingface의 객관식 dataset을 불러와서 평가 후 재업로드하는 과정까지 경험해볼 것입니다."
   ]
  },
  {
   "cell_type": "markdown",
   "metadata": {},
   "source": [
    "### 1. 데이터셋 불러오기\n",
    "먼저 HuggingFace Hub에서 데이터셋을 불러오는 방법을 알아보겠습니다:"
   ]
  },
  {
   "cell_type": "code",
   "execution_count": 1,
   "metadata": {},
   "outputs": [],
   "source": [
    "from langmetrics.llmdataset import LLMDataset\n",
    "from langmetrics.llmtestcase import LLMTestCase\n",
    "from datasets import load_dataset\n",
    "import pandas as pd\n",
    "from dotenv import load_dotenv"
   ]
  },
  {
   "cell_type": "code",
   "execution_count": 2,
   "metadata": {},
   "outputs": [
    {
     "data": {
      "text/plain": [
       "True"
      ]
     },
     "execution_count": 2,
     "metadata": {},
     "output_type": "execute_result"
    }
   ],
   "source": [
    "load_dotenv(override=True)"
   ]
  },
  {
   "cell_type": "code",
   "execution_count": 3,
   "metadata": {},
   "outputs": [],
   "source": [
    "dataset = load_dataset('sickgpt/001_MedQA_raw')"
   ]
  },
  {
   "cell_type": "code",
   "execution_count": 4,
   "metadata": {},
   "outputs": [
    {
     "data": {
      "text/plain": [
       "DatasetDict({\n",
       "    train: Dataset({\n",
       "        features: ['question', 'expected_output', 'choices'],\n",
       "        num_rows: 10178\n",
       "    })\n",
       "    test: Dataset({\n",
       "        features: ['question', 'expected_output', 'choices'],\n",
       "        num_rows: 1273\n",
       "    })\n",
       "})"
      ]
     },
     "execution_count": 4,
     "metadata": {},
     "output_type": "execute_result"
    }
   ],
   "source": [
    "dataset"
   ]
  },
  {
   "cell_type": "markdown",
   "metadata": {},
   "source": [
    "이제 LLMDataset을 이용해서 불러와봅시다."
   ]
  },
  {
   "cell_type": "markdown",
   "metadata": {},
   "source": [
    "먼저 LLMTestCase는 input, choices, expected_output을 고정으로 받습니다. 그런데 위에 Dataset은 input이 question이라는 열로 되어있네요. field_mapping 인자를 이용해서 column을 매핑해주겠습니다."
   ]
  },
  {
   "cell_type": "code",
   "execution_count": 5,
   "metadata": {},
   "outputs": [
    {
     "data": {
      "text/plain": [
       "{'input': str,\n",
       " 'output': typing.Optional[str],\n",
       " 'expected_output': str,\n",
       " 'context': typing.Optional[typing.List[str]],\n",
       " 'retrieval_context': typing.Optional[typing.List[str]],\n",
       " 'reasoning': typing.Optional[str],\n",
       " 'choices': typing.Optional[str]}"
      ]
     },
     "execution_count": 5,
     "metadata": {},
     "output_type": "execute_result"
    }
   ],
   "source": [
    "LLMTestCase.__annotations__"
   ]
  },
  {
   "cell_type": "code",
   "execution_count": 6,
   "metadata": {},
   "outputs": [],
   "source": [
    "# 예시 사용법\n",
    "field_mapping = {\n",
    "    'input': 'question',  # 데이터셋의 'question' 필드를 'input'으로 매핑\n",
    "    'expected_output': 'expected_output',\n",
    "    'choices': 'choices'\n",
    "}"
   ]
  },
  {
   "cell_type": "code",
   "execution_count": 7,
   "metadata": {},
   "outputs": [],
   "source": [
    "dataset = LLMDataset.from_huggingface_hub('sickgpt/001_MedQA_raw', field_mapping=field_mapping)"
   ]
  },
  {
   "cell_type": "code",
   "execution_count": 8,
   "metadata": {},
   "outputs": [
    {
     "name": "stdout",
     "output_type": "stream",
     "text": [
      "10178\n"
     ]
    }
   ],
   "source": [
    "print(len(dataset))"
   ]
  },
  {
   "cell_type": "code",
   "execution_count": 9,
   "metadata": {},
   "outputs": [],
   "source": [
    "test_dataset = LLMDataset.from_huggingface_hub('sickgpt/001_MedQA_raw', field_mapping=field_mapping, split='test')"
   ]
  },
  {
   "cell_type": "code",
   "execution_count": 10,
   "metadata": {},
   "outputs": [
    {
     "data": {
      "text/plain": [
       "1273"
      ]
     },
     "execution_count": 10,
     "metadata": {},
     "output_type": "execute_result"
    }
   ],
   "source": [
    "len(test_dataset)"
   ]
  },
  {
   "cell_type": "markdown",
   "metadata": {},
   "source": [
    "이제 evaluate을 진행해봅시다."
   ]
  },
  {
   "cell_type": "code",
   "execution_count": 11,
   "metadata": {},
   "outputs": [],
   "source": [
    "from langmetrics.llmfactory import LLMFactory"
   ]
  },
  {
   "cell_type": "code",
   "execution_count": 12,
   "metadata": {},
   "outputs": [
    {
     "data": {
      "text/plain": [
       "['gpt-4o',\n",
       " 'gpt-4o-mini',\n",
       " 'deepseek-v3',\n",
       " 'deepseek-reasoner',\n",
       " 'claude-3.5-sonnet',\n",
       " 'claude-3.5-haiku',\n",
       " 'naver']"
      ]
     },
     "execution_count": 12,
     "metadata": {},
     "output_type": "execute_result"
    }
   ],
   "source": [
    "LLMFactory.get_model_list()"
   ]
  },
  {
   "cell_type": "code",
   "execution_count": 13,
   "metadata": {},
   "outputs": [],
   "source": [
    "from langmetrics.llmfactory import LLMFactory\n",
    "# LLM 모델 생성\n",
    "gpt_4o_mini = LLMFactory.create_llm('gpt-4o-mini')"
   ]
  },
  {
   "cell_type": "code",
   "execution_count": 15,
   "metadata": {},
   "outputs": [],
   "source": [
    "from langmetrics.metrics import MCQMetric\n",
    "metric = MCQMetric(\n",
    "    answer_model=gpt_4o_mini,\n",
    "    template_language='en',  # 'ko' 또는 'en'\n",
    "    generate_template_type='reasoning'  # 'reasoning' 또는 'only_answer'\n",
    ")"
   ]
  },
  {
   "cell_type": "markdown",
   "metadata": {},
   "source": [
    "async를 통해서 빠르게 추론을 할 것입니다."
   ]
  },
  {
   "cell_type": "code",
   "execution_count": 17,
   "metadata": {},
   "outputs": [],
   "source": [
    "import nest_asyncio\n",
    "nest_asyncio.apply()"
   ]
  },
  {
   "cell_type": "code",
   "execution_count": 18,
   "metadata": {},
   "outputs": [
    {
     "name": "stdout",
     "output_type": "stream",
     "text": [
      "LLMTestCase(input='A junior orthopaedic surgery resident is completing a carpal tunnel repair with the department chairman as the attending physician. During the case, the resident inadvertently cuts a flexor tendon. The tendon is repaired without complication. The attending tells the resident that the patient will do fine, and there is no need to report this minor complication that will not harm the patient, as he does not want to make the patient worry unnecessarily. He tells the resident to leave this complication out of the operative report. Which of the following is the correct next action for the resident to take?', output=None, expected_output='B', context=None, retrieval_context=None, reasoning=None, choices=['Disclose the error to the patient and put it in the operative report', 'Tell the attending that he cannot fail to disclose this mistake', 'Report the physician to the ethics committee', 'Refuse to dictate the operative report'])\n"
     ]
    }
   ],
   "source": [
    "print(test_dataset[0])"
   ]
  },
  {
   "cell_type": "code",
   "execution_count": 19,
   "metadata": {},
   "outputs": [],
   "source": [
    "results = await metric.ameasure(test_dataset[:3])"
   ]
  },
  {
   "cell_type": "code",
   "execution_count": 20,
   "metadata": {},
   "outputs": [
    {
     "data": {
      "text/plain": [
       "LLMDataset(Polars DataFrame with 3 rows)"
      ]
     },
     "execution_count": 20,
     "metadata": {},
     "output_type": "execute_result"
    }
   ],
   "source": [
    "results"
   ]
  },
  {
   "cell_type": "code",
   "execution_count": 21,
   "metadata": {},
   "outputs": [],
   "source": [
    "# r1_results = await r1_metric.ameasure(test_dataset[:10])"
   ]
  },
  {
   "cell_type": "markdown",
   "metadata": {},
   "source": [
    "약 1200개의 달하는 test를 단 30초만에 모두 추론한 것을 확인할 수 있습니다!"
   ]
  },
  {
   "cell_type": "code",
   "execution_count": 22,
   "metadata": {},
   "outputs": [
    {
     "data": {
      "text/html": [
       "<div><style>\n",
       ".dataframe > thead > tr,\n",
       ".dataframe > tbody > tr {\n",
       "  text-align: right;\n",
       "  white-space: pre-wrap;\n",
       "}\n",
       "</style>\n",
       "<small>shape: (3, 10)</small><table border=\"1\" class=\"dataframe\"><thead><tr><th>input</th><th>student_answer</th><th>teacher_answer</th><th>expected_output</th><th>context</th><th>retrieval_context</th><th>reasoning</th><th>choices</th><th>score</th><th>metadata</th></tr><tr><td>str</td><td>str</td><td>null</td><td>str</td><td>null</td><td>null</td><td>str</td><td>list[str]</td><td>i64</td><td>struct[3]</td></tr></thead><tbody><tr><td>&quot;A junior orthopaedic surgery r…</td><td>&quot;{\n",
       "&nbsp;&nbsp;&nbsp;&nbsp;&quot;reasoning&quot;: &quot;In this sc…</td><td>null</td><td>&quot;B&quot;</td><td>null</td><td>null</td><td>&quot;In this scenario, the resident…</td><td>[&quot;Disclose the error to the patient and put it in the operative report&quot;, &quot;Tell the attending that he cannot fail to disclose this mistake&quot;, … &quot;Refuse to dictate the operative report&quot;]</td><td>0</td><td>{&quot;en&quot;,&quot;gpt-4o-mini-2024-07-18&quot;,{137,279,416}}</td></tr><tr><td>&quot;A 67-year-old man with transit…</td><td>&quot;{\n",
       "&nbsp;&nbsp;&nbsp;&nbsp;&quot;reasoning&quot;: &quot;In this ca…</td><td>null</td><td>&quot;D&quot;</td><td>null</td><td>null</td><td>&quot;In this case, the patient has …</td><td>[&quot;Inhibition of proteasome&quot;, &quot;Hyperstabilization of microtubules&quot;, … &quot;Cross-linking of DNA&quot;]</td><td>0</td><td>{&quot;en&quot;,&quot;gpt-4o-mini-2024-07-18&quot;,{144,238,382}}</td></tr><tr><td>&quot;Two weeks after undergoing an …</td><td>&quot;{\n",
       "&nbsp;&nbsp;&nbsp;&nbsp;&quot;reasoning&quot;: &quot;The patien…</td><td>null</td><td>&quot;B&quot;</td><td>null</td><td>null</td><td>&quot;The patient&#x27;s symptoms and lab…</td><td>[&quot;Renal papillary necrosis&quot;, &quot;Cholesterol embolization&quot;, … &quot;Polyarteritis nodosa&quot;]</td><td>1</td><td>{&quot;en&quot;,&quot;gpt-4o-mini-2024-07-18&quot;,{162,407,569}}</td></tr></tbody></table></div>"
      ],
      "text/plain": [
       "shape: (3, 10)\n",
       "┌────────────┬────────────┬────────────┬───────────┬───┬───────────┬───────────┬───────┬───────────┐\n",
       "│ input      ┆ student_an ┆ teacher_an ┆ expected_ ┆ … ┆ reasoning ┆ choices   ┆ score ┆ metadata  │\n",
       "│ ---        ┆ swer       ┆ swer       ┆ output    ┆   ┆ ---       ┆ ---       ┆ ---   ┆ ---       │\n",
       "│ str        ┆ ---        ┆ ---        ┆ ---       ┆   ┆ str       ┆ list[str] ┆ i64   ┆ struct[3] │\n",
       "│            ┆ str        ┆ null       ┆ str       ┆   ┆           ┆           ┆       ┆           │\n",
       "╞════════════╪════════════╪════════════╪═══════════╪═══╪═══════════╪═══════════╪═══════╪═══════════╡\n",
       "│ A junior   ┆ {          ┆ null       ┆ B         ┆ … ┆ In this   ┆ [\"Disclos ┆ 0     ┆ {\"en\",\"gp │\n",
       "│ orthopaedi ┆ \"reasoning ┆            ┆           ┆   ┆ scenario, ┆ e the     ┆       ┆ t-4o-mini │\n",
       "│ c surgery  ┆ \": \"In     ┆            ┆           ┆   ┆ the       ┆ error to  ┆       ┆ -2024-07- │\n",
       "│ r…         ┆ this sc…   ┆            ┆           ┆   ┆ resident… ┆ the pa…   ┆       ┆ 18\"…      │\n",
       "│ A 67-year- ┆ {          ┆ null       ┆ D         ┆ … ┆ In this   ┆ [\"Inhibit ┆ 0     ┆ {\"en\",\"gp │\n",
       "│ old man    ┆ \"reasoning ┆            ┆           ┆   ┆ case, the ┆ ion of    ┆       ┆ t-4o-mini │\n",
       "│ with       ┆ \": \"In     ┆            ┆           ┆   ┆ patient   ┆ proteasom ┆       ┆ -2024-07- │\n",
       "│ transit…   ┆ this ca…   ┆            ┆           ┆   ┆ has …     ┆ e\", \"…    ┆       ┆ 18\"…      │\n",
       "│ Two weeks  ┆ {          ┆ null       ┆ B         ┆ … ┆ The       ┆ [\"Renal   ┆ 1     ┆ {\"en\",\"gp │\n",
       "│ after      ┆ \"reasoning ┆            ┆           ┆   ┆ patient's ┆ papillary ┆       ┆ t-4o-mini │\n",
       "│ undergoing ┆ \": \"The    ┆            ┆           ┆   ┆ symptoms  ┆ necrosis\" ┆       ┆ -2024-07- │\n",
       "│ an …       ┆ patien…    ┆            ┆           ┆   ┆ and lab…  ┆ , \"…      ┆       ┆ 18\"…      │\n",
       "└────────────┴────────────┴────────────┴───────────┴───┴───────────┴───────────┴───────┴───────────┘"
      ]
     },
     "execution_count": 22,
     "metadata": {},
     "output_type": "execute_result"
    }
   ],
   "source": [
    "results.df"
   ]
  },
  {
   "cell_type": "code",
   "execution_count": 23,
   "metadata": {},
   "outputs": [],
   "source": [
    "scores = sum([i.score for i in results]) / len(results)"
   ]
  },
  {
   "cell_type": "code",
   "execution_count": 24,
   "metadata": {},
   "outputs": [
    {
     "name": "stdout",
     "output_type": "stream",
     "text": [
      "0.3333333333333333\n"
     ]
    }
   ],
   "source": [
    "print(scores)"
   ]
  },
  {
   "cell_type": "code",
   "execution_count": 27,
   "metadata": {},
   "outputs": [
    {
     "name": "stdout",
     "output_type": "stream",
     "text": [
      "LLMResult(input='A junior orthopaedic surgery resident is completing a carpal tunnel repair with the department chairman as the attending physician. During the case, the resident inadvertently cuts a flexor tendon. The tendon is repaired without complication. The attending tells the resident that the patient will do fine, and there is no need to report this minor complication that will not harm the patient, as he does not want to make the patient worry unnecessarily. He tells the resident to leave this complication out of the operative report. Which of the following is the correct next action for the resident to take?', student_answer='{\\n    \"reasoning\": \"In this scenario, the resident faces an ethical dilemma involving disclosure of a medical error. It is essential to maintain transparency in medical practice for patient safety and trust. While the attending physician suggests not to report the complication, the resident has a professional and ethical obligation to disclose the error to the patient and document it in the operative report. This ensures that the patient is aware of all aspects of their care and that the medical record accurately reflects the procedure performed. Therefore, the correct next action for the resident is to disclose the error to the patient and include it in the operative report. So the answer is A.\",\\n    \"answer\": \"A\"\\n}', teacher_answer=None, expected_output='B', context=None, retrieval_context=None, reasoning='In this scenario, the resident faces an ethical dilemma involving disclosure of a medical error. It is essential to maintain transparency in medical practice for patient safety and trust. While the attending physician suggests not to report the complication, the resident has a professional and ethical obligation to disclose the error to the patient and document it in the operative report. This ensures that the patient is aware of all aspects of their care and that the medical record accurately reflects the procedure performed. Therefore, the correct next action for the resident is to disclose the error to the patient and include it in the operative report. So the answer is A.', choices=['Disclose the error to the patient and put it in the operative report', 'Tell the attending that he cannot fail to disclose this mistake', 'Report the physician to the ethics committee', 'Refuse to dictate the operative report'], score=0, metadata={'student_template_language': 'en', 'student_model_name': 'gpt-4o-mini-2024-07-18', 'student_token_usage': {'completion_tokens': 137, 'prompt_tokens': 279, 'total_tokens': 416}})\n"
     ]
    }
   ],
   "source": [
    "print(results[0])"
   ]
  },
  {
   "cell_type": "code",
   "execution_count": 34,
   "metadata": {},
   "outputs": [
    {
     "data": {
      "text/html": [
       "<div><style>\n",
       ".dataframe > thead > tr,\n",
       ".dataframe > tbody > tr {\n",
       "  text-align: right;\n",
       "  white-space: pre-wrap;\n",
       "}\n",
       "</style>\n",
       "<small>shape: (3,)</small><table border=\"1\" class=\"dataframe\"><thead><tr><th>metadata</th></tr><tr><td>struct[3]</td></tr></thead><tbody><tr><td>{&quot;en&quot;,&quot;gpt-4o-mini-2024-07-18&quot;,{137,279,416}}</td></tr><tr><td>{&quot;en&quot;,&quot;gpt-4o-mini-2024-07-18&quot;,{144,238,382}}</td></tr><tr><td>{&quot;en&quot;,&quot;gpt-4o-mini-2024-07-18&quot;,{162,407,569}}</td></tr></tbody></table></div>"
      ],
      "text/plain": [
       "shape: (3,)\n",
       "Series: 'metadata' [struct[3]]\n",
       "[\n",
       "\t{\"en\",\"gpt-4o-mini-2024-07-18\",{137,279,416}}\n",
       "\t{\"en\",\"gpt-4o-mini-2024-07-18\",{144,238,382}}\n",
       "\t{\"en\",\"gpt-4o-mini-2024-07-18\",{162,407,569}}\n",
       "]"
      ]
     },
     "execution_count": 34,
     "metadata": {},
     "output_type": "execute_result"
    }
   ],
   "source": [
    "results.df['metadata']"
   ]
  }
 ],
 "metadata": {
  "kernelspec": {
   "display_name": "base",
   "language": "python",
   "name": "python3"
  },
  "language_info": {
   "codemirror_mode": {
    "name": "ipython",
    "version": 3
   },
   "file_extension": ".py",
   "mimetype": "text/x-python",
   "name": "python",
   "nbconvert_exporter": "python",
   "pygments_lexer": "ipython3",
   "version": "3.10.13"
  }
 },
 "nbformat": 4,
 "nbformat_minor": 2
}
