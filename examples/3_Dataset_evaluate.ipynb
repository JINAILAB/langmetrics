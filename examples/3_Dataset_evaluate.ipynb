{
 "cells": [
  {
   "cell_type": "markdown",
   "metadata": {},
   "source": [
    "# MCQ (Multiple Choice Question) 평가 튜토리얼\n",
    "\n",
    "## MCQDataset\n",
    "\n",
    "이 튜토리얼에서는 Huggingface의 객관식 dataset을 불러와서 평가 후 재업로드하는 과정까지 경험해볼 것입니다."
   ]
  },
  {
   "cell_type": "markdown",
   "metadata": {},
   "source": [
    "### 1. 데이터셋 불러오기\n",
    "먼저 HuggingFace Hub에서 데이터셋을 불러오는 방법을 알아보겠습니다:"
   ]
  },
  {
   "cell_type": "code",
   "execution_count": 1,
   "metadata": {},
   "outputs": [],
   "source": [
    "from langmetrics.llmdataset import LLMDataset\n",
    "from langmetrics.llmtestcase import LLMTestCase\n",
    "from datasets import load_dataset\n",
    "import pandas as pd\n",
    "from dotenv import load_dotenv"
   ]
  },
  {
   "cell_type": "code",
   "execution_count": 2,
   "metadata": {},
   "outputs": [
    {
     "data": {
      "text/plain": [
       "True"
      ]
     },
     "execution_count": 2,
     "metadata": {},
     "output_type": "execute_result"
    }
   ],
   "source": [
    "load_dotenv(override=True)"
   ]
  },
  {
   "cell_type": "code",
   "execution_count": 3,
   "metadata": {},
   "outputs": [],
   "source": [
    "dataset = load_dataset('sickgpt/001_MedQA_raw')"
   ]
  },
  {
   "cell_type": "code",
   "execution_count": 4,
   "metadata": {},
   "outputs": [
    {
     "data": {
      "text/plain": [
       "DatasetDict({\n",
       "    train: Dataset({\n",
       "        features: ['question', 'expected_output', 'choices'],\n",
       "        num_rows: 10178\n",
       "    })\n",
       "    test: Dataset({\n",
       "        features: ['question', 'expected_output', 'choices'],\n",
       "        num_rows: 1273\n",
       "    })\n",
       "})"
      ]
     },
     "execution_count": 4,
     "metadata": {},
     "output_type": "execute_result"
    }
   ],
   "source": [
    "dataset"
   ]
  },
  {
   "cell_type": "markdown",
   "metadata": {},
   "source": [
    "이제 LLMDataset을 이용해서 불러와봅시다."
   ]
  },
  {
   "cell_type": "markdown",
   "metadata": {},
   "source": [
    "먼저 LLMTestCase는 input, choices, expected_output을 고정으로 받습니다. 그런데 위에 Dataset은 input이 question이라는 열로 되어있네요. field_mapping 인자를 이용해서 column을 매핑해주겠습니다."
   ]
  },
  {
   "cell_type": "code",
   "execution_count": 5,
   "metadata": {},
   "outputs": [
    {
     "data": {
      "text/plain": [
       "{'input': str,\n",
       " 'output': typing.Optional[str],\n",
       " 'expected_output': str,\n",
       " 'context': typing.Optional[typing.List[str]],\n",
       " 'retrieval_context': typing.Optional[typing.List[str]],\n",
       " 'reasoning': typing.Optional[str],\n",
       " 'choices': typing.Optional[str]}"
      ]
     },
     "execution_count": 5,
     "metadata": {},
     "output_type": "execute_result"
    }
   ],
   "source": [
    "LLMTestCase.__annotations__"
   ]
  },
  {
   "cell_type": "code",
   "execution_count": 6,
   "metadata": {},
   "outputs": [],
   "source": [
    "# 예시 사용법\n",
    "field_mapping = {\n",
    "    'input': 'question',  # 데이터셋의 'question' 필드를 'input'으로 매핑\n",
    "    'expected_output': 'expected_output',\n",
    "    'choices': 'choices'\n",
    "}"
   ]
  },
  {
   "cell_type": "code",
   "execution_count": 7,
   "metadata": {},
   "outputs": [],
   "source": [
    "dataset = LLMDataset.from_huggingface_hub('sickgpt/001_MedQA_raw', field_mapping=field_mapping)"
   ]
  },
  {
   "cell_type": "code",
   "execution_count": 8,
   "metadata": {},
   "outputs": [
    {
     "name": "stdout",
     "output_type": "stream",
     "text": [
      "10178\n"
     ]
    }
   ],
   "source": [
    "print(len(dataset))"
   ]
  },
  {
   "cell_type": "code",
   "execution_count": 9,
   "metadata": {},
   "outputs": [],
   "source": [
    "test_dataset = LLMDataset.from_huggingface_hub('sickgpt/001_MedQA_raw', field_mapping=field_mapping, split='test')"
   ]
  },
  {
   "cell_type": "code",
   "execution_count": 10,
   "metadata": {},
   "outputs": [
    {
     "data": {
      "text/plain": [
       "1273"
      ]
     },
     "execution_count": 10,
     "metadata": {},
     "output_type": "execute_result"
    }
   ],
   "source": [
    "len(test_dataset)"
   ]
  },
  {
   "cell_type": "markdown",
   "metadata": {},
   "source": [
    "이제 evaluate을 진행해봅시다."
   ]
  },
  {
   "cell_type": "code",
   "execution_count": 11,
   "metadata": {},
   "outputs": [],
   "source": [
    "from langmetrics.llmfactory import LLMFactory\n",
    "from langmetrics.config import ModelConfig"
   ]
  },
  {
   "cell_type": "code",
   "execution_count": 12,
   "metadata": {},
   "outputs": [
    {
     "data": {
      "text/plain": [
       "['gpt-4o',\n",
       " 'gpt-4o-mini',\n",
       " 'deepseek-v3',\n",
       " 'deepseek-reasoner',\n",
       " 'claude-3.7-sonnet',\n",
       " 'claude-3.5-sonnet',\n",
       " 'claude-3.5-haiku',\n",
       " 'naver',\n",
       " 'gemini-2.0-flash']"
      ]
     },
     "execution_count": 12,
     "metadata": {},
     "output_type": "execute_result"
    }
   ],
   "source": [
    "LLMFactory.get_model_list()"
   ]
  },
  {
   "cell_type": "code",
   "execution_count": 13,
   "metadata": {},
   "outputs": [],
   "source": [
    "# 커스텀 모델 설정 생성\n",
    "custom_config = ModelConfig(\n",
    "    model_name=\"Qwen/Qwen2.5-3B-Instruct\",\n",
    "    api_base=\"http://qwen3b:8000/v1\",\n",
    "    api_key='EMPTY',\n",
    "    max_tokens=32000,\n",
    "    seed=66,\n",
    "    provider=\"openai\"\n",
    ")"
   ]
  },
  {
   "cell_type": "code",
   "execution_count": 14,
   "metadata": {},
   "outputs": [],
   "source": [
    "# localllm은 서버를 local에서 실행시키기 때문에 부팅되는 시간이 존재합니다.\n",
    "custom_llm = LLMFactory.create_llm(custom_config, temperature=1.0)"
   ]
  },
  {
   "cell_type": "code",
   "execution_count": 15,
   "metadata": {},
   "outputs": [],
   "source": [
    "from langmetrics.llmfactory import LLMFactory\n",
    "# LLM 모델 생성\n",
    "gpt_4o_mini = LLMFactory.create_llm('gpt-4o-mini')"
   ]
  },
  {
   "cell_type": "code",
   "execution_count": 34,
   "metadata": {},
   "outputs": [],
   "source": [
    "from langmetrics.metrics import MCQMetric\n",
    "metric = MCQMetric(\n",
    "    answer_model=custom_llm,\n",
    "    template_language='en',  # 'ko' 또는 'en'\n",
    "    generate_template_type='reasoning'  # 'reasoning' 또는 'only_answer'\n",
    ")"
   ]
  },
  {
   "cell_type": "markdown",
   "metadata": {},
   "source": [
    "async를 통해서 빠르게 추론을 할 것입니다."
   ]
  },
  {
   "cell_type": "code",
   "execution_count": 35,
   "metadata": {},
   "outputs": [],
   "source": [
    "import nest_asyncio\n",
    "nest_asyncio.apply()"
   ]
  },
  {
   "cell_type": "code",
   "execution_count": 36,
   "metadata": {},
   "outputs": [
    {
     "name": "stdout",
     "output_type": "stream",
     "text": [
      "LLMTestCase(input='A junior orthopaedic surgery resident is completing a carpal tunnel repair with the department chairman as the attending physician. During the case, the resident inadvertently cuts a flexor tendon. The tendon is repaired without complication. The attending tells the resident that the patient will do fine, and there is no need to report this minor complication that will not harm the patient, as he does not want to make the patient worry unnecessarily. He tells the resident to leave this complication out of the operative report. Which of the following is the correct next action for the resident to take?', output=None, expected_output='B', context=None, retrieval_context=None, reasoning=None, choices=['Disclose the error to the patient and put it in the operative report', 'Tell the attending that he cannot fail to disclose this mistake', 'Report the physician to the ethics committee', 'Refuse to dictate the operative report'])\n"
     ]
    }
   ],
   "source": [
    "print(test_dataset[0])"
   ]
  },
  {
   "cell_type": "code",
   "execution_count": 69,
   "metadata": {},
   "outputs": [],
   "source": [
    "results = await metric.ameasure(test_dataset[512:1000])"
   ]
  },
  {
   "cell_type": "code",
   "execution_count": 70,
   "metadata": {},
   "outputs": [
    {
     "data": {
      "text/plain": [
       "LLMDataset(Polars DataFrame with 488 rows)"
      ]
     },
     "execution_count": 70,
     "metadata": {},
     "output_type": "execute_result"
    }
   ],
   "source": [
    "results"
   ]
  },
  {
   "cell_type": "code",
   "execution_count": 71,
   "metadata": {},
   "outputs": [],
   "source": [
    "# r1_results = await r1_metric.ameasure(test_dataset[:10])"
   ]
  },
  {
   "cell_type": "markdown",
   "metadata": {},
   "source": [
    "약 1200개의 달하는 test를 단 30초만에 모두 추론한 것을 확인할 수 있습니다!"
   ]
  },
  {
   "cell_type": "code",
   "execution_count": 72,
   "metadata": {},
   "outputs": [
    {
     "data": {
      "text/plain": [
       "'{\\n    \"reasoning\": \"The patient\\'s thyroid-stimulating hormone (TSH) level of 2.0 μU/mL is lower than the normal range for TSH, which typically indicates hyperthyroidism. Since the patient is currently well-controlled with methimazole and asymptomatic, a lower TSH level suggests that methimazole is still effective in managing her hyperthyroidism. Discontinuing methimazole could potentially lead to the return of hyperthyroid symptoms. Adding glucocorticoids is not typically the first-line approach for managing hyperthyroidism, especially in a patient who is already on an antithyroid medication. Referring for radioiodine therapy is not recommended as an initial step since the patient is well-controlled and does not have any specific indications for this treatment. Therefore, the best course of action would be to continue methimazole.\",\\n    \"answer\": \"A\"\\n}'"
      ]
     },
     "execution_count": 72,
     "metadata": {},
     "output_type": "execute_result"
    }
   ],
   "source": [
    "results.df['student_answer'][0]"
   ]
  },
  {
   "cell_type": "code",
   "execution_count": 73,
   "metadata": {},
   "outputs": [
    {
     "data": {
      "text/html": [
       "<div><style>\n",
       ".dataframe > thead > tr,\n",
       ".dataframe > tbody > tr {\n",
       "  text-align: right;\n",
       "  white-space: pre-wrap;\n",
       "}\n",
       "</style>\n",
       "<small>shape: (488, 10)</small><table border=\"1\" class=\"dataframe\"><thead><tr><th>input</th><th>student_answer</th><th>teacher_answer</th><th>expected_output</th><th>context</th><th>retrieval_context</th><th>reasoning</th><th>choices</th><th>score</th><th>metadata</th></tr><tr><td>str</td><td>str</td><td>null</td><td>str</td><td>null</td><td>null</td><td>str</td><td>list[str]</td><td>i64</td><td>struct[4]</td></tr></thead><tbody><tr><td>&quot;A 35-year-old woman presents t…</td><td>&quot;{\n",
       "&nbsp;&nbsp;&nbsp;&nbsp;&quot;reasoning&quot;: &quot;The patien…</td><td>null</td><td>&quot;B&quot;</td><td>null</td><td>null</td><td>&quot;The patient&#x27;s thyroid-stimulat…</td><td>[&quot;Continue methimazole&quot;, &quot;Discontinue methimazole, start propylthiouracil&quot;, … &quot;Refer for radioiodine therapy&quot;]</td><td>0</td><td>{&quot;en&quot;,&quot;Qwen/Qwen2.5-3B-Instruct&quot;,{189,301,490},null}</td></tr><tr><td>&quot;A 65-year-old man presents to …</td><td>&quot;{\n",
       "&nbsp;&nbsp;&nbsp;&nbsp;&quot;reasoning&quot;: &quot;The patien…</td><td>null</td><td>&quot;D&quot;</td><td>null</td><td>null</td><td>&quot;The patient&#x27;s symptoms suggest…</td><td>[&quot;Compression fracture&quot;, &quot;Herniated nucleus pulposus&quot;, … &quot;Spinal stenosis&quot;]</td><td>1</td><td>{&quot;en&quot;,&quot;Qwen/Qwen2.5-3B-Instruct&quot;,{150,367,517},null}</td></tr><tr><td>&quot;A 3-year-old girl is brought t…</td><td>&quot;{\n",
       "&nbsp;&nbsp;&nbsp;&nbsp;&quot;reasoning&quot;: &quot;&lt;The patie…</td><td>null</td><td>&quot;A&quot;</td><td>null</td><td>null</td><td>&quot;&lt;The patient&#x27;s symptoms sugges…</td><td>[&quot;Anaphylactic transfusion reactions&quot;, &quot;Cutaneous granulomas&quot;, … &quot;Disseminated tuberculosis&quot;]</td><td>0</td><td>{&quot;en&quot;,&quot;Qwen/Qwen2.5-3B-Instruct&quot;,{156,367,523},null}</td></tr><tr><td>&quot;An 8-year-old boy who recently…</td><td>&quot;{\n",
       "&nbsp;&nbsp;&nbsp;&nbsp;&quot;reasoning&quot;: &quot;The patien…</td><td>null</td><td>&quot;D&quot;</td><td>null</td><td>null</td><td>&quot;The patient presents with a pi…</td><td>[&quot;Atypical lymphocytes on peripheral blood smear&quot;, &quot;Starry sky appearance&quot;, … &quot;Granulomas with giant cells&quot;]</td><td>0</td><td>{&quot;en&quot;,&quot;Qwen/Qwen2.5-3B-Instruct&quot;,{122,272,394},null}</td></tr><tr><td>&quot;A 59-year-old man presents to …</td><td>&quot;{\n",
       "&nbsp;&nbsp;&nbsp;&nbsp;&quot;reasoning&quot;: &quot;The patien…</td><td>null</td><td>&quot;D&quot;</td><td>null</td><td>null</td><td>&quot;The patient&#x27;s cough is not a k…</td><td>[&quot;Change lisinopril to propanolol&quot;, &quot;Change lisinopril to amlodipine&quot;, … &quot;Change lisinopril to losartan&quot;]</td><td>1</td><td>{&quot;en&quot;,&quot;Qwen/Qwen2.5-3B-Instruct&quot;,{114,337,451},null}</td></tr><tr><td>&hellip;</td><td>&hellip;</td><td>&hellip;</td><td>&hellip;</td><td>&hellip;</td><td>&hellip;</td><td>&hellip;</td><td>&hellip;</td><td>&hellip;</td><td>&hellip;</td></tr><tr><td>&quot;A 36-year-old woman, gravida 3…</td><td>&quot;{\n",
       "&nbsp;&nbsp;&nbsp;&nbsp;&quot;reasoning&quot;: &quot;Given the …</td><td>null</td><td>&quot;C&quot;</td><td>null</td><td>null</td><td>&quot;Given the mother&#x27;s BMI of 33 k…</td><td>[&quot;Polyhydramnios&quot;, &quot;Acute respiratory distress syndrome&quot;, … &quot;Placental abruption&quot;]</td><td>0</td><td>{&quot;en&quot;,&quot;Qwen/Qwen2.5-3B-Instruct&quot;,{173,344,517},null}</td></tr><tr><td>&quot;The only immunoglobulin found …</td><td>&quot;{\n",
       "&nbsp;&nbsp;&nbsp;&nbsp;&quot;reasoning&quot;: &quot;The only i…</td><td>null</td><td>&quot;C&quot;</td><td>null</td><td>null</td><td>&quot;The only immunoglobulin that e…</td><td>[&quot;Protect against invasive helminth infection&quot;, &quot;Protect against viral infections&quot;, … &quot;Provides the most specific recognition to circulating antigens in the bloodstream&quot;]</td><td>0</td><td>{&quot;en&quot;,&quot;Qwen/Qwen2.5-3B-Instruct&quot;,{76,179,255},null}</td></tr><tr><td>&quot;A 47-year-old woman is brought…</td><td>&quot;{\n",
       "&nbsp;&nbsp;&nbsp;&nbsp;&quot;reasoning&quot;: &quot;&lt;pH 7.26 i…</td><td>null</td><td>&quot;D&quot;</td><td>null</td><td>null</td><td>&quot;&lt;pH 7.26 indicates metabolic a…</td><td>[&quot;Diabetic ketoacidosis&quot;, &quot;Diuretic overdose&quot;, … &quot;Opioid overdose&quot;]</td><td>1</td><td>{&quot;en&quot;,&quot;Qwen/Qwen2.5-3B-Instruct&quot;,{172,308,480},null}</td></tr><tr><td>&quot;A 72-year-old woman with a 40 …</td><td>&quot;{\n",
       "&nbsp;&nbsp;&nbsp;&nbsp;&quot;reasoning&quot;: &quot;The most a…</td><td>null</td><td>&quot;B&quot;</td><td>null</td><td>null</td><td>&quot;The most appropriate initial s…</td><td>[&quot;&quot;Have you ever heard of pancreatic cancer?&quot;&quot;, &quot;&quot;I have bad news I need to share with you. Please sit down so we can discuss.&quot;&quot;, … &quot;&quot;Your test results are consistent with a pancreatic adenocarcinoma.&quot;&quot;]</td><td>1</td><td>{&quot;en&quot;,&quot;Qwen/Qwen2.5-3B-Instruct&quot;,{119,236,355},null}</td></tr><tr><td>&quot;A 40-year-old man is referred …</td><td>&quot;{\n",
       "&nbsp;&nbsp;&nbsp;&nbsp;&quot;reasoning&quot;: &quot;Given the …</td><td>null</td><td>&quot;D&quot;</td><td>null</td><td>null</td><td>&quot;Given the patient&#x27;s history of…</td><td>[&quot;Decrease medication dosage&quot;, &quot;Reassurance&quot;, … &quot;Slit-lamp examination&quot;]</td><td>1</td><td>{&quot;en&quot;,&quot;Qwen/Qwen2.5-3B-Instruct&quot;,{169,251,420},null}</td></tr></tbody></table></div>"
      ],
      "text/plain": [
       "shape: (488, 10)\n",
       "┌────────────┬────────────┬────────────┬───────────┬───┬───────────┬───────────┬───────┬───────────┐\n",
       "│ input      ┆ student_an ┆ teacher_an ┆ expected_ ┆ … ┆ reasoning ┆ choices   ┆ score ┆ metadata  │\n",
       "│ ---        ┆ swer       ┆ swer       ┆ output    ┆   ┆ ---       ┆ ---       ┆ ---   ┆ ---       │\n",
       "│ str        ┆ ---        ┆ ---        ┆ ---       ┆   ┆ str       ┆ list[str] ┆ i64   ┆ struct[4] │\n",
       "│            ┆ str        ┆ null       ┆ str       ┆   ┆           ┆           ┆       ┆           │\n",
       "╞════════════╪════════════╪════════════╪═══════════╪═══╪═══════════╪═══════════╪═══════╪═══════════╡\n",
       "│ A 35-year- ┆ {          ┆ null       ┆ B         ┆ … ┆ The       ┆ [\"Continu ┆ 0     ┆ {\"en\",\"Qw │\n",
       "│ old woman  ┆ \"reasoning ┆            ┆           ┆   ┆ patient's ┆ e methima ┆       ┆ en/Qwen2. │\n",
       "│ presents   ┆ \": \"The    ┆            ┆           ┆   ┆ thyroid-s ┆ zole\",    ┆       ┆ 5-3B-Inst │\n",
       "│ t…         ┆ patien…    ┆            ┆           ┆   ┆ timulat…  ┆ \"Disc…    ┆       ┆ ruc…      │\n",
       "│ A 65-year- ┆ {          ┆ null       ┆ D         ┆ … ┆ The       ┆ [\"Compres ┆ 1     ┆ {\"en\",\"Qw │\n",
       "│ old man    ┆ \"reasoning ┆            ┆           ┆   ┆ patient's ┆ sion frac ┆       ┆ en/Qwen2. │\n",
       "│ presents   ┆ \": \"The    ┆            ┆           ┆   ┆ symptoms  ┆ ture\",    ┆       ┆ 5-3B-Inst │\n",
       "│ to …       ┆ patien…    ┆            ┆           ┆   ┆ suggest…  ┆ \"Hern…    ┆       ┆ ruc…      │\n",
       "│ A          ┆ {          ┆ null       ┆ A         ┆ … ┆ <The      ┆ [\"Anaphyl ┆ 0     ┆ {\"en\",\"Qw │\n",
       "│ 3-year-old ┆ \"reasoning ┆            ┆           ┆   ┆ patient's ┆ actic tra ┆       ┆ en/Qwen2. │\n",
       "│ girl is    ┆ \": \"<The   ┆            ┆           ┆   ┆ symptoms  ┆ nsfusion  ┆       ┆ 5-3B-Inst │\n",
       "│ brought t… ┆ patie…     ┆            ┆           ┆   ┆ sugges…   ┆ rea…      ┆       ┆ ruc…      │\n",
       "│ An         ┆ {          ┆ null       ┆ D         ┆ … ┆ The       ┆ [\"Atypica ┆ 0     ┆ {\"en\",\"Qw │\n",
       "│ 8-year-old ┆ \"reasoning ┆            ┆           ┆   ┆ patient   ┆ l lymphoc ┆       ┆ en/Qwen2. │\n",
       "│ boy who    ┆ \": \"The    ┆            ┆           ┆   ┆ presents  ┆ ytes on   ┆       ┆ 5-3B-Inst │\n",
       "│ recently…  ┆ patien…    ┆            ┆           ┆   ┆ with a    ┆ peri…     ┆       ┆ ruc…      │\n",
       "│            ┆            ┆            ┆           ┆   ┆ pi…       ┆           ┆       ┆           │\n",
       "│ A 59-year- ┆ {          ┆ null       ┆ D         ┆ … ┆ The       ┆ [\"Change  ┆ 1     ┆ {\"en\",\"Qw │\n",
       "│ old man    ┆ \"reasoning ┆            ┆           ┆   ┆ patient's ┆ lisinopri ┆       ┆ en/Qwen2. │\n",
       "│ presents   ┆ \": \"The    ┆            ┆           ┆   ┆ cough is  ┆ l to      ┆       ┆ 5-3B-Inst │\n",
       "│ to …       ┆ patien…    ┆            ┆           ┆   ┆ not a k…  ┆ propano…  ┆       ┆ ruc…      │\n",
       "│ …          ┆ …          ┆ …          ┆ …         ┆ … ┆ …         ┆ …         ┆ …     ┆ …         │\n",
       "│ A 36-year- ┆ {          ┆ null       ┆ C         ┆ … ┆ Given the ┆ [\"Polyhyd ┆ 0     ┆ {\"en\",\"Qw │\n",
       "│ old woman, ┆ \"reasoning ┆            ┆           ┆   ┆ mother's  ┆ ramnios\", ┆       ┆ en/Qwen2. │\n",
       "│ gravida 3… ┆ \": \"Given  ┆            ┆           ┆   ┆ BMI of 33 ┆ \"Acute    ┆       ┆ 5-3B-Inst │\n",
       "│            ┆ the …      ┆            ┆           ┆   ┆ k…        ┆ resp…     ┆       ┆ ruc…      │\n",
       "│ The only   ┆ {          ┆ null       ┆ C         ┆ … ┆ The only  ┆ [\"Protect ┆ 0     ┆ {\"en\",\"Qw │\n",
       "│ immunoglob ┆ \"reasoning ┆            ┆           ┆   ┆ immunoglo ┆ against   ┆       ┆ en/Qwen2. │\n",
       "│ ulin found ┆ \": \"The    ┆            ┆           ┆   ┆ bulin     ┆ invasive  ┆       ┆ 5-3B-Inst │\n",
       "│ …          ┆ only i…    ┆            ┆           ┆   ┆ that e…   ┆ hel…      ┆       ┆ ruc…      │\n",
       "│ A 47-year- ┆ {          ┆ null       ┆ D         ┆ … ┆ <pH 7.26  ┆ [\"Diabeti ┆ 1     ┆ {\"en\",\"Qw │\n",
       "│ old woman  ┆ \"reasoning ┆            ┆           ┆   ┆ indicates ┆ c ketoaci ┆       ┆ en/Qwen2. │\n",
       "│ is         ┆ \": \"<pH    ┆            ┆           ┆   ┆ metabolic ┆ dosis\",   ┆       ┆ 5-3B-Inst │\n",
       "│ brought…   ┆ 7.26 i…    ┆            ┆           ┆   ┆ a…        ┆ \"Diu…     ┆       ┆ ruc…      │\n",
       "│ A 72-year- ┆ {          ┆ null       ┆ B         ┆ … ┆ The most  ┆ [\"\"Have   ┆ 1     ┆ {\"en\",\"Qw │\n",
       "│ old woman  ┆ \"reasoning ┆            ┆           ┆   ┆ appropria ┆ you ever  ┆       ┆ en/Qwen2. │\n",
       "│ with a 40  ┆ \": \"The    ┆            ┆           ┆   ┆ te        ┆ heard of  ┆       ┆ 5-3B-Inst │\n",
       "│ …          ┆ most a…    ┆            ┆           ┆   ┆ initial   ┆ panc…     ┆       ┆ ruc…      │\n",
       "│            ┆            ┆            ┆           ┆   ┆ s…        ┆           ┆       ┆           │\n",
       "│ A 40-year- ┆ {          ┆ null       ┆ D         ┆ … ┆ Given the ┆ [\"Decreas ┆ 1     ┆ {\"en\",\"Qw │\n",
       "│ old man is ┆ \"reasoning ┆            ┆           ┆   ┆ patient's ┆ e medicat ┆       ┆ en/Qwen2. │\n",
       "│ referred … ┆ \": \"Given  ┆            ┆           ┆   ┆ history   ┆ ion       ┆       ┆ 5-3B-Inst │\n",
       "│            ┆ the …      ┆            ┆           ┆   ┆ of…       ┆ dosage\",… ┆       ┆ ruc…      │\n",
       "└────────────┴────────────┴────────────┴───────────┴───┴───────────┴───────────┴───────┴───────────┘"
      ]
     },
     "execution_count": 73,
     "metadata": {},
     "output_type": "execute_result"
    }
   ],
   "source": [
    "results.df"
   ]
  },
  {
   "cell_type": "code",
   "execution_count": 74,
   "metadata": {},
   "outputs": [
    {
     "name": "stdout",
     "output_type": "stream",
     "text": [
      "488\n"
     ]
    }
   ],
   "source": [
    "print(len(results))"
   ]
  },
  {
   "cell_type": "code",
   "execution_count": 75,
   "metadata": {},
   "outputs": [
    {
     "name": "stdout",
     "output_type": "stream",
     "text": [
      "[0, 1, 0, 0, 1, 0, 1, 0, 0, 1, 0, 1, 0, 0, 0, 1, 0, 1, 0, 0, 1, 0, 1, 0, 1, 1, 1, 1, 0, 0, 1, 1, 1, 0, 0, 0, 0, 0, 0, 0, 1, 1, 0, 1, 1, 1, 1, 1, 0, 1, 1, 1, 0, 1, 0, 1, 1, 0, 1, 1, 0, 1, 0, 0, 0, 0, 1, 0, 0, 0, 1, 1, 0, 0, 0, 0, 1, 1, 0, 0, 0, 1, 1, 1, 0, 1, 0, 1, 0, 1, 0, 0, 1, 0, 1, 1, 1, 0, 1, 0, 0, 1, 1, 1, 0, 0, 0, 1, 0, 1, 0, 1, 0, 0, 1, 0, 1, 1, 1, 0, 1, 0, 1, 1, 1, 0, 1, 0, 0, 1, 1, 0, 1, 1, 1, 0, 0, 0, 1, 0, 0, 0, 0, 0, 1, 1, 1, 0, 0, 1, 0, 0, 0, 0, 1, 1, 1, 0, 0, 1, 0, 0, 1, 1, 0, 0, 1, 0, 1, 0, 0, 1, 0, 1, 0, 0, 0, 0, 1, 1, 0, 1, 1, 0, 1, 1, 0, 0, 1, 0, 0, 1, 1, 0, 0, 0, 0, 0, 0, 1, 1, 1, 0, 0, 0, 0, 0, 1, 0, 0, 1, 0, 0, 0, 0, 1, 1, 0, 0, 1, 0, 0, 0, 0, 1, 1, 1, 1, 0, 1, 0, 0, 1, 0, 0, 1, 0, 0, 1, 0, 1, 1, 1, 1, 0, 0, 0, 1, 0, 0, 0, 0, 0, 0, 1, 1, 0, 1, 1, 0, 0, 0, 1, 0, 0, 0, 0, 0, 0, 1, 0, 1, 1, 0, 0, 0, 1, 0, 0, 1, 0, 0, 1, 1, 1, 1, 0, 1, 0, 0, 0, 1, 1, 1, 1, 0, 1, 1, 0, 0, 1, 0, 1, 1, 0, 1, 1, 0, 0, 1, 0, 0, 1, 1, 0, 0, 0, 0, 0, 1, 0, 0, 1, 0, 1, 0, 0, 1, 1, 1, 1, 1, 1, 1, 1, 1, 1, 1, 0, 1, 1, 1, 0, 0, 0, 1, 1, 0, 0, 0, 0, 0, 0, 1, 0, 0, 1, 0, 1, 1, 0, 1, 0, 0, 1, 1, 1, 1, 0, 0, 0, 1, 1, 0, 1, 0, 0, 1, 1, 0, 1, 1, 1, 0, 1, 0, 1, 0, 0, 0, 0, 0, 0, 0, 0, 0, 1, 0, 1, 0, 1, 0, 0, 0, 0, 0, 0, 1, 1, 1, 0, 1, 0, 1, 1, 1, 0, 1, 1, 0, 0, 0, 0, 0, 0, 1, 1, 1, 1, 1, 0, 1, 1, 0, 0, 0, 0, 1, 1, 0, 1, 0, 0, 1, 1, 1, 1, 1, 0, 0, 1, 1, 0, 0, 0, 0, 1, 1, 1, 1, 1, 0, 1, 1, 1, 1, 1, 0, 0, 0, 0, 0, 0, 0, 0, 0, 0, 0, 0, 0, 1, 0, 0, 0, 0, 1, 1, 1]\n"
     ]
    }
   ],
   "source": [
    "print([i.score for i in results])"
   ]
  },
  {
   "cell_type": "code",
   "execution_count": 76,
   "metadata": {},
   "outputs": [],
   "source": [
    "scores = sum([i.score for i in results]) / len(results)"
   ]
  },
  {
   "cell_type": "code",
   "execution_count": 77,
   "metadata": {},
   "outputs": [
    {
     "name": "stdout",
     "output_type": "stream",
     "text": [
      "0.4569672131147541\n"
     ]
    }
   ],
   "source": [
    "print(scores)"
   ]
  },
  {
   "cell_type": "code",
   "execution_count": 78,
   "metadata": {},
   "outputs": [
    {
     "name": "stdout",
     "output_type": "stream",
     "text": [
      "LLMResult(input='A 35-year-old woman presents to her primary care provider concerned that she may be pregnant. She has a history of regular menstruation every 4 weeks that lasts about 4 days with mild to moderate bleeding, but she missed her last period 2 weeks ago. A home pregnancy test was positive. She has a 6-year history of hyperthyroidism that is well-controlled with daily methimazole. She is currently asymptomatic and has no complaints or concerns. A blood specimen is taken and confirms the diagnosis. Additionally, her thyroid-stimulating hormone (TSH) is 2.0 μU/mL. Which of the following is the next best step in the management of this patient?', student_answer='{\\n    \"reasoning\": \"The patient\\'s thyroid-stimulating hormone (TSH) level of 2.0 μU/mL is lower than the normal range for TSH, which typically indicates hyperthyroidism. Since the patient is currently well-controlled with methimazole and asymptomatic, a lower TSH level suggests that methimazole is still effective in managing her hyperthyroidism. Discontinuing methimazole could potentially lead to the return of hyperthyroid symptoms. Adding glucocorticoids is not typically the first-line approach for managing hyperthyroidism, especially in a patient who is already on an antithyroid medication. Referring for radioiodine therapy is not recommended as an initial step since the patient is well-controlled and does not have any specific indications for this treatment. Therefore, the best course of action would be to continue methimazole.\",\\n    \"answer\": \"A\"\\n}', teacher_answer=None, expected_output='B', context=None, retrieval_context=None, reasoning=\"The patient's thyroid-stimulating hormone (TSH) level of 2.0 μU/mL is lower than the normal range for TSH, which typically indicates hyperthyroidism. Since the patient is currently well-controlled with methimazole and asymptomatic, a lower TSH level suggests that methimazole is still effective in managing her hyperthyroidism. Discontinuing methimazole could potentially lead to the return of hyperthyroid symptoms. Adding glucocorticoids is not typically the first-line approach for managing hyperthyroidism, especially in a patient who is already on an antithyroid medication. Referring for radioiodine therapy is not recommended as an initial step since the patient is well-controlled and does not have any specific indications for this treatment. Therefore, the best course of action would be to continue methimazole.\", choices=['Continue methimazole', 'Discontinue methimazole, start propylthiouracil', 'Add glucocorticoids', 'Refer for radioiodine therapy'], score=0, metadata={'student_template_language': 'en', 'student_model_name': 'Qwen/Qwen2.5-3B-Instruct', 'student_token_usage': {'completion_tokens': 189, 'prompt_tokens': 301, 'total_tokens': 490}, 'error': None})\n"
     ]
    }
   ],
   "source": [
    "print(results[0])"
   ]
  },
  {
   "cell_type": "code",
   "execution_count": 79,
   "metadata": {},
   "outputs": [
    {
     "data": {
      "text/html": [
       "<div><style>\n",
       ".dataframe > thead > tr,\n",
       ".dataframe > tbody > tr {\n",
       "  text-align: right;\n",
       "  white-space: pre-wrap;\n",
       "}\n",
       "</style>\n",
       "<small>shape: (488,)</small><table border=\"1\" class=\"dataframe\"><thead><tr><th>metadata</th></tr><tr><td>struct[4]</td></tr></thead><tbody><tr><td>{&quot;en&quot;,&quot;Qwen/Qwen2.5-3B-Instruct&quot;,{189,301,490},null}</td></tr><tr><td>{&quot;en&quot;,&quot;Qwen/Qwen2.5-3B-Instruct&quot;,{150,367,517},null}</td></tr><tr><td>{&quot;en&quot;,&quot;Qwen/Qwen2.5-3B-Instruct&quot;,{156,367,523},null}</td></tr><tr><td>{&quot;en&quot;,&quot;Qwen/Qwen2.5-3B-Instruct&quot;,{122,272,394},null}</td></tr><tr><td>{&quot;en&quot;,&quot;Qwen/Qwen2.5-3B-Instruct&quot;,{114,337,451},null}</td></tr><tr><td>&hellip;</td></tr><tr><td>{&quot;en&quot;,&quot;Qwen/Qwen2.5-3B-Instruct&quot;,{173,344,517},null}</td></tr><tr><td>{&quot;en&quot;,&quot;Qwen/Qwen2.5-3B-Instruct&quot;,{76,179,255},null}</td></tr><tr><td>{&quot;en&quot;,&quot;Qwen/Qwen2.5-3B-Instruct&quot;,{172,308,480},null}</td></tr><tr><td>{&quot;en&quot;,&quot;Qwen/Qwen2.5-3B-Instruct&quot;,{119,236,355},null}</td></tr><tr><td>{&quot;en&quot;,&quot;Qwen/Qwen2.5-3B-Instruct&quot;,{169,251,420},null}</td></tr></tbody></table></div>"
      ],
      "text/plain": [
       "shape: (488,)\n",
       "Series: 'metadata' [struct[4]]\n",
       "[\n",
       "\t{\"en\",\"Qwen/Qwen2.5-3B-Instruct\",{189,301,490},null}\n",
       "\t{\"en\",\"Qwen/Qwen2.5-3B-Instruct\",{150,367,517},null}\n",
       "\t{\"en\",\"Qwen/Qwen2.5-3B-Instruct\",{156,367,523},null}\n",
       "\t{\"en\",\"Qwen/Qwen2.5-3B-Instruct\",{122,272,394},null}\n",
       "\t{\"en\",\"Qwen/Qwen2.5-3B-Instruct\",{114,337,451},null}\n",
       "\t…\n",
       "\t{\"en\",\"Qwen/Qwen2.5-3B-Instruct\",{173,344,517},null}\n",
       "\t{\"en\",\"Qwen/Qwen2.5-3B-Instruct\",{76,179,255},null}\n",
       "\t{\"en\",\"Qwen/Qwen2.5-3B-Instruct\",{172,308,480},null}\n",
       "\t{\"en\",\"Qwen/Qwen2.5-3B-Instruct\",{119,236,355},null}\n",
       "\t{\"en\",\"Qwen/Qwen2.5-3B-Instruct\",{169,251,420},null}\n",
       "]"
      ]
     },
     "execution_count": 79,
     "metadata": {},
     "output_type": "execute_result"
    }
   ],
   "source": [
    "results.df['metadata']"
   ]
  },
  {
   "cell_type": "code",
   "execution_count": null,
   "metadata": {},
   "outputs": [],
   "source": []
  },
  {
   "cell_type": "code",
   "execution_count": null,
   "metadata": {},
   "outputs": [],
   "source": []
  },
  {
   "cell_type": "code",
   "execution_count": null,
   "metadata": {},
   "outputs": [],
   "source": []
  },
  {
   "cell_type": "code",
   "execution_count": null,
   "metadata": {},
   "outputs": [],
   "source": []
  }
 ],
 "metadata": {
  "kernelspec": {
   "display_name": "magpie",
   "language": "python",
   "name": "python3"
  },
  "language_info": {
   "codemirror_mode": {
    "name": "ipython",
    "version": 3
   },
   "file_extension": ".py",
   "mimetype": "text/x-python",
   "name": "python",
   "nbconvert_exporter": "python",
   "pygments_lexer": "ipython3",
   "version": "3.10.16"
  }
 },
 "nbformat": 4,
 "nbformat_minor": 2
}
